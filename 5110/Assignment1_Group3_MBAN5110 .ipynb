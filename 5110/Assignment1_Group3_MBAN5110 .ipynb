{
 "cells": [
  {
   "cell_type": "markdown",
   "metadata": {},
   "source": [
    "PARTA"
   ]
  },
  {
   "cell_type": "code",
   "execution_count": 2,
   "metadata": {},
   "outputs": [],
   "source": [
    "import pandas as pd\n",
    "import statsmodels.api as sm\n",
    "import numpy as np\n",
    "from sklearn.model_selection import train_test_split"
   ]
  },
  {
   "cell_type": "code",
   "execution_count": 3,
   "metadata": {},
   "outputs": [],
   "source": [
    "df = pd.read_csv('/Users/liu/Desktop/dataset_lm.csv')"
   ]
  },
  {
   "cell_type": "code",
   "execution_count": 4,
   "metadata": {},
   "outputs": [
    {
     "name": "stdout",
     "output_type": "stream",
     "text": [
      "<class 'pandas.core.frame.DataFrame'>\n",
      "RangeIndex: 422 entries, 0 to 421\n",
      "Data columns (total 16 columns):\n",
      " #   Column               Non-Null Count  Dtype  \n",
      "---  ------               --------------  -----  \n",
      " 0   Dependent Var        422 non-null    float64\n",
      " 1   Explanatory Var #1   422 non-null    float64\n",
      " 2   Explanatory Var #2   422 non-null    float64\n",
      " 3   Explanatory Var #3   422 non-null    int64  \n",
      " 4   Explanatory Var #4   422 non-null    float64\n",
      " 5   Explanatory Var #5   422 non-null    float64\n",
      " 6   Explanatory Var #6   422 non-null    float64\n",
      " 7   Explanatory Var #7   422 non-null    float64\n",
      " 8   Explanatory Var #8   422 non-null    int64  \n",
      " 9   Explanatory Var #9   422 non-null    float64\n",
      " 10  Explanatory Var #10  422 non-null    float64\n",
      " 11  Explanatory Var #11  422 non-null    float64\n",
      " 12  Explanatory Var #12  422 non-null    float64\n",
      " 13  Explanatory Var #13  422 non-null    int64  \n",
      " 14  Explanatory Var #14  422 non-null    float64\n",
      " 15  Explanatory Var #15  422 non-null    float64\n",
      "dtypes: float64(13), int64(3)\n",
      "memory usage: 52.9 KB\n"
     ]
    }
   ],
   "source": [
    "df.info()"
   ]
  },
  {
   "cell_type": "code",
   "execution_count": 5,
   "metadata": {},
   "outputs": [],
   "source": [
    "y = df['Dependent Var']\n",
    "x = df.drop('Dependent Var', axis = 1)\n",
    "x = sm.add_constant(x)"
   ]
  },
  {
   "cell_type": "code",
   "execution_count": 6,
   "metadata": {},
   "outputs": [
    {
     "name": "stdout",
     "output_type": "stream",
     "text": [
      "                            OLS Regression Results                            \n",
      "==============================================================================\n",
      "Dep. Variable:          Dependent Var   R-squared:                       1.000\n",
      "Model:                            OLS   Adj. R-squared:                  1.000\n",
      "Method:                 Least Squares   F-statistic:                 1.458e+30\n",
      "Date:                Thu, 26 Oct 2023   Prob (F-statistic):               0.00\n",
      "Time:                        10:54:49   Log-Likelihood:                 11991.\n",
      "No. Observations:                 422   AIC:                        -2.395e+04\n",
      "Df Residuals:                     406   BIC:                        -2.389e+04\n",
      "Df Model:                          15                                         \n",
      "Covariance Type:            nonrobust                                         \n",
      "=======================================================================================\n",
      "                          coef    std err          t      P>|t|      [0.025      0.975]\n",
      "---------------------------------------------------------------------------------------\n",
      "const                  32.0000   9.87e-14   3.24e+14      0.000      32.000      32.000\n",
      "Explanatory Var #1      1.3000   7.97e-16   1.63e+15      0.000       1.300       1.300\n",
      "Explanatory Var #2      1.7000   5.79e-16   2.94e+15      0.000       1.700       1.700\n",
      "Explanatory Var #3      6.2000   1.11e-14   5.58e+14      0.000       6.200       6.200\n",
      "Explanatory Var #4      2.1000   6.84e-16   3.07e+15      0.000       2.100       2.100\n",
      "Explanatory Var #5     -0.9000   8.02e-16  -1.12e+15      0.000      -0.900      -0.900\n",
      "Explanatory Var #6  -1.372e-15   4.84e-16     -2.835      0.005   -2.32e-15   -4.21e-16\n",
      "Explanatory Var #7  -1.265e-15   3.74e-16     -3.382      0.001      -2e-15    -5.3e-16\n",
      "Explanatory Var #8  -2.193e-15   5.08e-15     -0.432      0.666   -1.22e-14     7.8e-15\n",
      "Explanatory Var #9  -1.037e-15    6.5e-16     -1.597      0.111   -2.31e-15     2.4e-16\n",
      "Explanatory Var #10 -9.194e-17    8.1e-16     -0.114      0.910   -1.68e-15     1.5e-15\n",
      "Explanatory Var #11 -6.384e-16   7.83e-16     -0.815      0.415   -2.18e-15    9.01e-16\n",
      "Explanatory Var #12  -5.36e-16   5.86e-16     -0.915      0.361   -1.69e-15    6.16e-16\n",
      "Explanatory Var #13  1.721e-15   1.12e-14      0.153      0.878   -2.03e-14    2.38e-14\n",
      "Explanatory Var #14 -7.338e-16   6.89e-16     -1.065      0.288   -2.09e-15    6.21e-16\n",
      "Explanatory Var #15 -7.737e-16    8.2e-16     -0.943      0.346   -2.39e-15    8.39e-16\n",
      "==============================================================================\n",
      "Omnibus:                        0.665   Durbin-Watson:                   0.240\n",
      "Prob(Omnibus):                  0.717   Jarque-Bera (JB):                0.777\n",
      "Skew:                          -0.063   Prob(JB):                        0.678\n",
      "Kurtosis:                       2.832   Cond. No.                     2.55e+03\n",
      "==============================================================================\n",
      "\n",
      "Notes:\n",
      "[1] Standard Errors assume that the covariance matrix of the errors is correctly specified.\n",
      "[2] The condition number is large, 2.55e+03. This might indicate that there are\n",
      "strong multicollinearity or other numerical problems.\n"
     ]
    }
   ],
   "source": [
    "model = sm.OLS(y,x).fit()\n",
    "print(model.summary())"
   ]
  },
  {
   "cell_type": "markdown",
   "metadata": {},
   "source": [
    "PARTB"
   ]
  },
  {
   "cell_type": "code",
   "execution_count": 7,
   "metadata": {},
   "outputs": [
    {
     "name": "stdout",
     "output_type": "stream",
     "text": [
      "0.08761230519874948\n",
      "-0.0006909361541353932\n",
      "0.008050247268124382\n"
     ]
    }
   ],
   "source": [
    "r = model.resid\n",
    "std = np.std(r)\n",
    "for i in range(1,4):\n",
    "    autocorrelations = r.autocorr(lag=i)\n",
    "    print(autocorrelations)"
   ]
  },
  {
   "cell_type": "code",
   "execution_count": 8,
   "metadata": {},
   "outputs": [
    {
     "name": "stdout",
     "output_type": "stream",
     "text": [
      "                            GLS Regression Results                            \n",
      "==============================================================================\n",
      "Dep. Variable:          Dependent Var   R-squared:                       1.000\n",
      "Model:                            GLS   Adj. R-squared:                  1.000\n",
      "Method:                 Least Squares   F-statistic:                 1.458e+30\n",
      "Date:                Thu, 26 Oct 2023   Prob (F-statistic):               0.00\n",
      "Time:                        10:54:49   Log-Likelihood:                 11991.\n",
      "No. Observations:                 422   AIC:                        -2.395e+04\n",
      "Df Residuals:                     406   BIC:                        -2.389e+04\n",
      "Df Model:                          15                                         \n",
      "Covariance Type:            nonrobust                                         \n",
      "=======================================================================================\n",
      "                          coef    std err          t      P>|t|      [0.025      0.975]\n",
      "---------------------------------------------------------------------------------------\n",
      "const                  32.0000   9.87e-14   3.24e+14      0.000      32.000      32.000\n",
      "Explanatory Var #1      1.3000   7.97e-16   1.63e+15      0.000       1.300       1.300\n",
      "Explanatory Var #2      1.7000   5.79e-16   2.94e+15      0.000       1.700       1.700\n",
      "Explanatory Var #3      6.2000   1.11e-14   5.58e+14      0.000       6.200       6.200\n",
      "Explanatory Var #4      2.1000   6.84e-16   3.07e+15      0.000       2.100       2.100\n",
      "Explanatory Var #5     -0.9000   8.02e-16  -1.12e+15      0.000      -0.900      -0.900\n",
      "Explanatory Var #6  -1.372e-15   4.84e-16     -2.835      0.005   -2.32e-15   -4.21e-16\n",
      "Explanatory Var #7  -1.265e-15   3.74e-16     -3.382      0.001      -2e-15    -5.3e-16\n",
      "Explanatory Var #8  -2.193e-15   5.08e-15     -0.432      0.666   -1.22e-14     7.8e-15\n",
      "Explanatory Var #9  -1.037e-15    6.5e-16     -1.597      0.111   -2.31e-15     2.4e-16\n",
      "Explanatory Var #10 -9.194e-17    8.1e-16     -0.114      0.910   -1.68e-15     1.5e-15\n",
      "Explanatory Var #11 -6.384e-16   7.83e-16     -0.815      0.415   -2.18e-15    9.01e-16\n",
      "Explanatory Var #12  -5.36e-16   5.86e-16     -0.915      0.361   -1.69e-15    6.16e-16\n",
      "Explanatory Var #13  1.721e-15   1.12e-14      0.153      0.878   -2.03e-14    2.38e-14\n",
      "Explanatory Var #14 -7.338e-16   6.89e-16     -1.065      0.288   -2.09e-15    6.21e-16\n",
      "Explanatory Var #15 -7.737e-16    8.2e-16     -0.943      0.346   -2.39e-15    8.39e-16\n",
      "==============================================================================\n",
      "Omnibus:                        0.665   Durbin-Watson:                   0.240\n",
      "Prob(Omnibus):                  0.717   Jarque-Bera (JB):                0.777\n",
      "Skew:                          -0.063   Prob(JB):                        0.678\n",
      "Kurtosis:                       2.832   Cond. No.                     2.55e+03\n",
      "==============================================================================\n",
      "\n",
      "Notes:\n",
      "[1] Standard Errors assume that the covariance matrix of the errors is correctly specified.\n",
      "[2] The condition number is large, 2.55e+03. This might indicate that there are\n",
      "strong multicollinearity or other numerical problems.\n"
     ]
    }
   ],
   "source": [
    "gls_model = sm.GLS(y, x).fit()\n",
    "print(gls_model.summary())"
   ]
  },
  {
   "cell_type": "markdown",
   "metadata": {},
   "source": [
    "PARTC"
   ]
  },
  {
   "cell_type": "code",
   "execution_count": 9,
   "metadata": {},
   "outputs": [],
   "source": [
    "x_train, x_test, y_train, y_test = train_test_split(x, y, test_size = 0.5, random_state=0)"
   ]
  },
  {
   "cell_type": "code",
   "execution_count": 10,
   "metadata": {},
   "outputs": [
    {
     "data": {
      "text/html": [
       "<style>#sk-container-id-1 {color: black;background-color: white;}#sk-container-id-1 pre{padding: 0;}#sk-container-id-1 div.sk-toggleable {background-color: white;}#sk-container-id-1 label.sk-toggleable__label {cursor: pointer;display: block;width: 100%;margin-bottom: 0;padding: 0.3em;box-sizing: border-box;text-align: center;}#sk-container-id-1 label.sk-toggleable__label-arrow:before {content: \"▸\";float: left;margin-right: 0.25em;color: #696969;}#sk-container-id-1 label.sk-toggleable__label-arrow:hover:before {color: black;}#sk-container-id-1 div.sk-estimator:hover label.sk-toggleable__label-arrow:before {color: black;}#sk-container-id-1 div.sk-toggleable__content {max-height: 0;max-width: 0;overflow: hidden;text-align: left;background-color: #f0f8ff;}#sk-container-id-1 div.sk-toggleable__content pre {margin: 0.2em;color: black;border-radius: 0.25em;background-color: #f0f8ff;}#sk-container-id-1 input.sk-toggleable__control:checked~div.sk-toggleable__content {max-height: 200px;max-width: 100%;overflow: auto;}#sk-container-id-1 input.sk-toggleable__control:checked~label.sk-toggleable__label-arrow:before {content: \"▾\";}#sk-container-id-1 div.sk-estimator input.sk-toggleable__control:checked~label.sk-toggleable__label {background-color: #d4ebff;}#sk-container-id-1 div.sk-label input.sk-toggleable__control:checked~label.sk-toggleable__label {background-color: #d4ebff;}#sk-container-id-1 input.sk-hidden--visually {border: 0;clip: rect(1px 1px 1px 1px);clip: rect(1px, 1px, 1px, 1px);height: 1px;margin: -1px;overflow: hidden;padding: 0;position: absolute;width: 1px;}#sk-container-id-1 div.sk-estimator {font-family: monospace;background-color: #f0f8ff;border: 1px dotted black;border-radius: 0.25em;box-sizing: border-box;margin-bottom: 0.5em;}#sk-container-id-1 div.sk-estimator:hover {background-color: #d4ebff;}#sk-container-id-1 div.sk-parallel-item::after {content: \"\";width: 100%;border-bottom: 1px solid gray;flex-grow: 1;}#sk-container-id-1 div.sk-label:hover label.sk-toggleable__label {background-color: #d4ebff;}#sk-container-id-1 div.sk-serial::before {content: \"\";position: absolute;border-left: 1px solid gray;box-sizing: border-box;top: 0;bottom: 0;left: 50%;z-index: 0;}#sk-container-id-1 div.sk-serial {display: flex;flex-direction: column;align-items: center;background-color: white;padding-right: 0.2em;padding-left: 0.2em;position: relative;}#sk-container-id-1 div.sk-item {position: relative;z-index: 1;}#sk-container-id-1 div.sk-parallel {display: flex;align-items: stretch;justify-content: center;background-color: white;position: relative;}#sk-container-id-1 div.sk-item::before, #sk-container-id-1 div.sk-parallel-item::before {content: \"\";position: absolute;border-left: 1px solid gray;box-sizing: border-box;top: 0;bottom: 0;left: 50%;z-index: -1;}#sk-container-id-1 div.sk-parallel-item {display: flex;flex-direction: column;z-index: 1;position: relative;background-color: white;}#sk-container-id-1 div.sk-parallel-item:first-child::after {align-self: flex-end;width: 50%;}#sk-container-id-1 div.sk-parallel-item:last-child::after {align-self: flex-start;width: 50%;}#sk-container-id-1 div.sk-parallel-item:only-child::after {width: 0;}#sk-container-id-1 div.sk-dashed-wrapped {border: 1px dashed gray;margin: 0 0.4em 0.5em 0.4em;box-sizing: border-box;padding-bottom: 0.4em;background-color: white;}#sk-container-id-1 div.sk-label label {font-family: monospace;font-weight: bold;display: inline-block;line-height: 1.2em;}#sk-container-id-1 div.sk-label-container {text-align: center;}#sk-container-id-1 div.sk-container {/* jupyter's `normalize.less` sets `[hidden] { display: none; }` but bootstrap.min.css set `[hidden] { display: none !important; }` so we also need the `!important` here to be able to override the default hidden behavior on the sphinx rendered scikit-learn.org. See: https://github.com/scikit-learn/scikit-learn/issues/21755 */display: inline-block !important;position: relative;}#sk-container-id-1 div.sk-text-repr-fallback {display: none;}</style><div id=\"sk-container-id-1\" class=\"sk-top-container\"><div class=\"sk-text-repr-fallback\"><pre>Lasso(alpha=1)</pre><b>In a Jupyter environment, please rerun this cell to show the HTML representation or trust the notebook. <br />On GitHub, the HTML representation is unable to render, please try loading this page with nbviewer.org.</b></div><div class=\"sk-container\" hidden><div class=\"sk-item\"><div class=\"sk-estimator sk-toggleable\"><input class=\"sk-toggleable__control sk-hidden--visually\" id=\"sk-estimator-id-1\" type=\"checkbox\" checked><label for=\"sk-estimator-id-1\" class=\"sk-toggleable__label sk-toggleable__label-arrow\">Lasso</label><div class=\"sk-toggleable__content\"><pre>Lasso(alpha=1)</pre></div></div></div></div></div>"
      ],
      "text/plain": [
       "Lasso(alpha=1)"
      ]
     },
     "execution_count": 10,
     "metadata": {},
     "output_type": "execute_result"
    }
   ],
   "source": [
    "from sklearn.linear_model import Lasso\n",
    "lasso = Lasso(alpha = 1)\n",
    "lasso.fit(x_train, y_train)"
   ]
  },
  {
   "cell_type": "code",
   "execution_count": 11,
   "metadata": {},
   "outputs": [
    {
     "name": "stdout",
     "output_type": "stream",
     "text": [
      "3.947673796221203\n"
     ]
    }
   ],
   "source": [
    "from sklearn.metrics import mean_absolute_percentage_error\n",
    "\n",
    "prediction = lasso.predict(x_test)\n",
    "mae = mean_absolute_percentage_error(y_test, prediction)\n",
    "mae = mae * 100\n",
    "print(mae)"
   ]
  },
  {
   "cell_type": "code",
   "execution_count": 12,
   "metadata": {},
   "outputs": [
    {
     "name": "stdout",
     "output_type": "stream",
     "text": [
      "Optimal alpha: {'alpha': 0.1}\n"
     ]
    }
   ],
   "source": [
    "from sklearn.model_selection import GridSearchCV\n",
    "parameters = {'alpha': np.linspace(0.1, 10, 100)}\n",
    "lasso = Lasso()\n",
    "grid = GridSearchCV(lasso, parameters, scoring='neg_mean_absolute_error')\n",
    "grid.fit(x,y)\n",
    "\n",
    "#Optimal alpha\n",
    "print(f'Optimal alpha: {grid.best_params_}')"
   ]
  },
  {
   "cell_type": "markdown",
   "metadata": {},
   "source": [
    "PART D"
   ]
  },
  {
   "cell_type": "code",
   "execution_count": 13,
   "metadata": {},
   "outputs": [],
   "source": [
    "data = {\n",
    "    'Month' : list(range(1,26)),\n",
    "    'Demand' : [100,112,107,102,91,85,84,85,79,81,134,86,99,89,\n",
    "                111,114,118, 163, 193,143,144,202,158,160,144],\n",
    "    'Advanced_Demand' : [71,30,75,64,41,51,42,51,57,49,134,\n",
    "                         52,99,56,81,79,73,163,193,99,91,202,105,101,96]\n",
    "}\n",
    "\n",
    "df1 = pd.DataFrame(data)"
   ]
  },
  {
   "cell_type": "code",
   "execution_count": 14,
   "metadata": {},
   "outputs": [
    {
     "name": "stdout",
     "output_type": "stream",
     "text": [
      "<class 'pandas.core.frame.DataFrame'>\n",
      "RangeIndex: 25 entries, 0 to 24\n",
      "Data columns (total 3 columns):\n",
      " #   Column           Non-Null Count  Dtype\n",
      "---  ------           --------------  -----\n",
      " 0   Month            25 non-null     int64\n",
      " 1   Demand           25 non-null     int64\n",
      " 2   Advanced_Demand  25 non-null     int64\n",
      "dtypes: int64(3)\n",
      "memory usage: 728.0 bytes\n"
     ]
    }
   ],
   "source": [
    "df1.info()"
   ]
  },
  {
   "cell_type": "code",
   "execution_count": 15,
   "metadata": {},
   "outputs": [
    {
     "data": {
      "text/html": [
       "<div>\n",
       "<style scoped>\n",
       "    .dataframe tbody tr th:only-of-type {\n",
       "        vertical-align: middle;\n",
       "    }\n",
       "\n",
       "    .dataframe tbody tr th {\n",
       "        vertical-align: top;\n",
       "    }\n",
       "\n",
       "    .dataframe thead th {\n",
       "        text-align: right;\n",
       "    }\n",
       "</style>\n",
       "<table border=\"1\" class=\"dataframe\">\n",
       "  <thead>\n",
       "    <tr style=\"text-align: right;\">\n",
       "      <th></th>\n",
       "      <th>Month</th>\n",
       "      <th>Demand</th>\n",
       "      <th>Advanced_Demand</th>\n",
       "    </tr>\n",
       "  </thead>\n",
       "  <tbody>\n",
       "    <tr>\n",
       "      <th>0</th>\n",
       "      <td>1</td>\n",
       "      <td>100</td>\n",
       "      <td>71</td>\n",
       "    </tr>\n",
       "    <tr>\n",
       "      <th>1</th>\n",
       "      <td>2</td>\n",
       "      <td>112</td>\n",
       "      <td>30</td>\n",
       "    </tr>\n",
       "    <tr>\n",
       "      <th>2</th>\n",
       "      <td>3</td>\n",
       "      <td>107</td>\n",
       "      <td>75</td>\n",
       "    </tr>\n",
       "    <tr>\n",
       "      <th>3</th>\n",
       "      <td>4</td>\n",
       "      <td>102</td>\n",
       "      <td>64</td>\n",
       "    </tr>\n",
       "    <tr>\n",
       "      <th>4</th>\n",
       "      <td>5</td>\n",
       "      <td>91</td>\n",
       "      <td>41</td>\n",
       "    </tr>\n",
       "    <tr>\n",
       "      <th>5</th>\n",
       "      <td>6</td>\n",
       "      <td>85</td>\n",
       "      <td>51</td>\n",
       "    </tr>\n",
       "    <tr>\n",
       "      <th>6</th>\n",
       "      <td>7</td>\n",
       "      <td>84</td>\n",
       "      <td>42</td>\n",
       "    </tr>\n",
       "    <tr>\n",
       "      <th>7</th>\n",
       "      <td>8</td>\n",
       "      <td>85</td>\n",
       "      <td>51</td>\n",
       "    </tr>\n",
       "    <tr>\n",
       "      <th>8</th>\n",
       "      <td>9</td>\n",
       "      <td>79</td>\n",
       "      <td>57</td>\n",
       "    </tr>\n",
       "    <tr>\n",
       "      <th>9</th>\n",
       "      <td>10</td>\n",
       "      <td>81</td>\n",
       "      <td>49</td>\n",
       "    </tr>\n",
       "    <tr>\n",
       "      <th>10</th>\n",
       "      <td>11</td>\n",
       "      <td>134</td>\n",
       "      <td>134</td>\n",
       "    </tr>\n",
       "    <tr>\n",
       "      <th>11</th>\n",
       "      <td>12</td>\n",
       "      <td>86</td>\n",
       "      <td>52</td>\n",
       "    </tr>\n",
       "    <tr>\n",
       "      <th>12</th>\n",
       "      <td>13</td>\n",
       "      <td>99</td>\n",
       "      <td>99</td>\n",
       "    </tr>\n",
       "    <tr>\n",
       "      <th>13</th>\n",
       "      <td>14</td>\n",
       "      <td>89</td>\n",
       "      <td>56</td>\n",
       "    </tr>\n",
       "    <tr>\n",
       "      <th>14</th>\n",
       "      <td>15</td>\n",
       "      <td>111</td>\n",
       "      <td>81</td>\n",
       "    </tr>\n",
       "    <tr>\n",
       "      <th>15</th>\n",
       "      <td>16</td>\n",
       "      <td>114</td>\n",
       "      <td>79</td>\n",
       "    </tr>\n",
       "    <tr>\n",
       "      <th>16</th>\n",
       "      <td>17</td>\n",
       "      <td>118</td>\n",
       "      <td>73</td>\n",
       "    </tr>\n",
       "    <tr>\n",
       "      <th>17</th>\n",
       "      <td>18</td>\n",
       "      <td>163</td>\n",
       "      <td>163</td>\n",
       "    </tr>\n",
       "    <tr>\n",
       "      <th>18</th>\n",
       "      <td>19</td>\n",
       "      <td>193</td>\n",
       "      <td>193</td>\n",
       "    </tr>\n",
       "    <tr>\n",
       "      <th>19</th>\n",
       "      <td>20</td>\n",
       "      <td>143</td>\n",
       "      <td>99</td>\n",
       "    </tr>\n",
       "    <tr>\n",
       "      <th>20</th>\n",
       "      <td>21</td>\n",
       "      <td>144</td>\n",
       "      <td>91</td>\n",
       "    </tr>\n",
       "    <tr>\n",
       "      <th>21</th>\n",
       "      <td>22</td>\n",
       "      <td>202</td>\n",
       "      <td>202</td>\n",
       "    </tr>\n",
       "    <tr>\n",
       "      <th>22</th>\n",
       "      <td>23</td>\n",
       "      <td>158</td>\n",
       "      <td>105</td>\n",
       "    </tr>\n",
       "    <tr>\n",
       "      <th>23</th>\n",
       "      <td>24</td>\n",
       "      <td>160</td>\n",
       "      <td>101</td>\n",
       "    </tr>\n",
       "    <tr>\n",
       "      <th>24</th>\n",
       "      <td>25</td>\n",
       "      <td>144</td>\n",
       "      <td>96</td>\n",
       "    </tr>\n",
       "  </tbody>\n",
       "</table>\n",
       "</div>"
      ],
      "text/plain": [
       "    Month  Demand  Advanced_Demand\n",
       "0       1     100               71\n",
       "1       2     112               30\n",
       "2       3     107               75\n",
       "3       4     102               64\n",
       "4       5      91               41\n",
       "5       6      85               51\n",
       "6       7      84               42\n",
       "7       8      85               51\n",
       "8       9      79               57\n",
       "9      10      81               49\n",
       "10     11     134              134\n",
       "11     12      86               52\n",
       "12     13      99               99\n",
       "13     14      89               56\n",
       "14     15     111               81\n",
       "15     16     114               79\n",
       "16     17     118               73\n",
       "17     18     163              163\n",
       "18     19     193              193\n",
       "19     20     143               99\n",
       "20     21     144               91\n",
       "21     22     202              202\n",
       "22     23     158              105\n",
       "23     24     160              101\n",
       "24     25     144               96"
      ]
     },
     "execution_count": 15,
     "metadata": {},
     "output_type": "execute_result"
    }
   ],
   "source": [
    "df1"
   ]
  },
  {
   "cell_type": "code",
   "execution_count": 16,
   "metadata": {},
   "outputs": [
    {
     "data": {
      "image/png": "[encoded data removed]",
      "text/plain": [
       "<Figure size 1000x500 with 1 Axes>"
      ]
     },
     "metadata": {},
     "output_type": "display_data"
    }
   ],
   "source": [
    "import matplotlib.pyplot as plt\n",
    "# plot the demand\n",
    "plt.figure(figsize=(10,5))\n",
    "plt.plot(df1['Month'], df1['Demand'], '-', label='Demand')\n",
    "plt.plot(df1['Month'], df1['Advanced_Demand'], '-', label='Advanced Demand', color='r')\n",
    "plt.title('Demand Information')\n",
    "plt.xlabel('Month')\n",
    "plt.ylabel('Demand Quantity')\n",
    "plt.legend()\n",
    "plt.show()"
   ]
  },
  {
   "cell_type": "code",
   "execution_count": 17,
   "metadata": {},
   "outputs": [
    {
     "name": "stdout",
     "output_type": "stream",
     "text": [
      "[0.80916288]\n"
     ]
    }
   ],
   "source": [
    "from sklearn.linear_model import LinearRegression\n",
    "y1 = df1['Demand'][1:]\n",
    "x1 = df1['Demand'][:-1].values.reshape(-1,1) #1D to 2D \n",
    "l = np.array(df1['Advanced_Demand'][1:])\n",
    "\n",
    "x1_train, x1_test, y1_train, y1_test, l_train, l_test = train_test_split(x1, y1, l, test_size = 0.2, random_state=42)\n",
    "\n",
    "#Building Regression Model\n",
    "ols_model = LinearRegression()\n",
    "ols_model.fit(x1_train,y1_train)\n",
    "#Grabing beta value\n",
    "ols_beta = ols_model.coef_\n",
    "print(ols_beta)"
   ]
  },
  {
   "cell_type": "code",
   "execution_count": 18,
   "metadata": {},
   "outputs": [
    {
     "data": {
      "text/plain": [
       "array([ 87.82151182, 119.37886404, 104.81393225, 180.06607983,\n",
       "        93.48565196])"
      ]
     },
     "execution_count": 18,
     "metadata": {},
     "output_type": "execute_result"
    }
   ],
   "source": [
    "ols_predictions = ols_model.predict(x1_test)\n",
    "ols_predictions"
   ]
  },
  {
   "cell_type": "code",
   "execution_count": 19,
   "metadata": {},
   "outputs": [
    {
     "name": "stdout",
     "output_type": "stream",
     "text": [
      "MSE for OLS is  681.0556809106661\n"
     ]
    }
   ],
   "source": [
    "#Evaluating ols model\n",
    "from sklearn.metrics import mean_squared_error\n",
    "mse_ols = mean_squared_error(y1_test, ols_predictions)\n",
    "print('MSE for OLS is ', mse_ols)"
   ]
  },
  {
   "cell_type": "code",
   "execution_count": 20,
   "metadata": {},
   "outputs": [
    {
     "name": "stdout",
     "output_type": "stream",
     "text": [
      "Adjusted MSE for OLS is  294.4133735132249\n"
     ]
    }
   ],
   "source": [
    "#Based on L value and the condition X*beta >= L, adjust OLS model\n",
    "adjusted_ols = np.maximum(ols_predictions, l_test)\n",
    "adjusted_mse_ols = mean_squared_error(y1_test, adjusted_ols)\n",
    "print('Adjusted MSE for OLS is ', adjusted_mse_ols)"
   ]
  },
  {
   "cell_type": "code",
   "execution_count": 21,
   "metadata": {},
   "outputs": [
    {
     "data": {
      "text/plain": [
       "1000.0"
      ]
     },
     "execution_count": 21,
     "metadata": {},
     "output_type": "execute_result"
    }
   ],
   "source": [
    "#Ridge Model\n",
    "from sklearn.linear_model import Ridge\n",
    "from sklearn.linear_model import RidgeCV\n",
    "\n",
    "#Define lambdas value\n",
    "alphas = np.logspace(-10,10,21)\n",
    "\n",
    "#Looking for the best value of lambda by Cross validation\n",
    "ridge_cv = RidgeCV(alphas = alphas, store_cv_values=True)\n",
    "ridge_cv.fit(x1_train,y1_train)\n",
    "\n",
    "best_lambda = ridge_cv.alpha_\n",
    "best_lambda\n"
   ]
  },
  {
   "cell_type": "code",
   "execution_count": 22,
   "metadata": {},
   "outputs": [
    {
     "data": {
      "text/plain": [
       "array([0.77253015])"
      ]
     },
     "execution_count": 22,
     "metadata": {},
     "output_type": "execute_result"
    }
   ],
   "source": [
    "ridge_model = Ridge(alpha = best_lambda)\n",
    "ridge_model.fit(x1_train, y1_train)\n",
    "\n",
    "ridge_beta = ridge_model.coef_\n",
    "ridge_beta"
   ]
  },
  {
   "cell_type": "code",
   "execution_count": 23,
   "metadata": {},
   "outputs": [
    {
     "data": {
      "text/plain": [
       "array([ 89.29260488, 119.42128087, 105.51573811, 177.36104241,\n",
       "        94.70031595])"
      ]
     },
     "execution_count": 23,
     "metadata": {},
     "output_type": "execute_result"
    }
   ],
   "source": [
    "ridge_predictions = ridge_model.predict(x1_test)\n",
    "ridge_predictions"
   ]
  },
  {
   "cell_type": "code",
   "execution_count": 24,
   "metadata": {},
   "outputs": [
    {
     "name": "stdout",
     "output_type": "stream",
     "text": [
      "MSE for Ridge is  681.0556809106661\n"
     ]
    }
   ],
   "source": [
    "#Evaluating Ridge model\n",
    "mse_ridge = mean_squared_error(y1_test, ridge_predictions)\n",
    "print('MSE for Ridge is ', mse_ols)"
   ]
  },
  {
   "cell_type": "code",
   "execution_count": 25,
   "metadata": {},
   "outputs": [
    {
     "name": "stdout",
     "output_type": "stream",
     "text": [
      "Adjusted MSE for Ridge is  258.2988366670621\n"
     ]
    }
   ],
   "source": [
    "#Based on L value and the condition X*beta >= L, adjust OLS model\n",
    "adjusted_ridge = np.maximum(ridge_predictions, l_test)\n",
    "adjusted_mse_ridge = mean_squared_error(y1_test, adjusted_ridge)\n",
    "print('Adjusted MSE for Ridge is ', adjusted_mse_ridge)"
   ]
  },
  {
   "cell_type": "code",
   "execution_count": 26,
   "metadata": {},
   "outputs": [
    {
     "data": {
      "text/plain": [
       "100.0"
      ]
     },
     "execution_count": 26,
     "metadata": {},
     "output_type": "execute_result"
    }
   ],
   "source": [
    "#Lasso Model\n",
    "from sklearn.linear_model import LassoCV\n",
    "\n",
    "#Define lambdas value\n",
    "alphas = np.logspace(-10,10,21)\n",
    "\n",
    "#Looking for the best value of lambda by Cross validation\n",
    "lasso_cv = LassoCV(alphas = alphas)\n",
    "lasso_cv.fit(x1_train,y1_train)\n",
    "\n",
    "best_lambda_lasso = lasso_cv.alpha_\n",
    "best_lambda_lasso"
   ]
  },
  {
   "cell_type": "code",
   "execution_count": 27,
   "metadata": {},
   "outputs": [
    {
     "data": {
      "text/plain": [
       "array([0.71906649])"
      ]
     },
     "execution_count": 27,
     "metadata": {},
     "output_type": "execute_result"
    }
   ],
   "source": [
    "lasso_model = Lasso(alpha = best_lambda_lasso)\n",
    "lasso_model.fit(x1_train, y1_train)\n",
    "\n",
    "#Grathering beta value\n",
    "lasso_beta = lasso_model.coef_\n",
    "lasso_beta"
   ]
  },
  {
   "cell_type": "code",
   "execution_count": 28,
   "metadata": {},
   "outputs": [
    {
     "data": {
      "text/plain": [
       "array([ 91.43959299, 119.48318617, 106.53998932, 173.41317304,\n",
       "        96.47305844])"
      ]
     },
     "execution_count": 28,
     "metadata": {},
     "output_type": "execute_result"
    }
   ],
   "source": [
    "lasso_predictions = lasso_model.predict(x1_test)\n",
    "lasso_predictions"
   ]
  },
  {
   "cell_type": "code",
   "execution_count": 29,
   "metadata": {},
   "outputs": [
    {
     "name": "stdout",
     "output_type": "stream",
     "text": [
      "MSE for Lasso is  592.7712865359256\n"
     ]
    }
   ],
   "source": [
    "#Evaluating Lasso Model\n",
    "mse_lasso = mean_squared_error(y1_test, lasso_predictions)\n",
    "print('MSE for Lasso is ', mse_lasso)"
   ]
  },
  {
   "cell_type": "code",
   "execution_count": 30,
   "metadata": {},
   "outputs": [
    {
     "name": "stdout",
     "output_type": "stream",
     "text": [
      "Adjusted MSE for Lasso is  212.75158257668642\n"
     ]
    }
   ],
   "source": [
    "adjusted_lasso = np.maximum(lasso_predictions, l_test)\n",
    "adjusted_mse_lasso = mean_squared_error(y1_test, adjusted_lasso)\n",
    "print('Adjusted MSE for Lasso is ', adjusted_mse_lasso)"
   ]
  },
  {
   "cell_type": "code",
   "execution_count": null,
   "metadata": {},
   "outputs": [],
   "source": []
  }
 ],
 "metadata": {
  "kernelspec": {
   "display_name": "Python 3",
   "language": "python",
   "name": "python3"
  },
  "language_info": {
   "codemirror_mode": {
    "name": "ipython",
    "version": 3
   },
   "file_extension": ".py",
   "mimetype": "text/x-python",
   "name": "python",
   "nbconvert_exporter": "python",
   "pygments_lexer": "ipython3",
   "version": "3.10.7"
  }
 },
 "nbformat": 4,
 "nbformat_minor": 2
}
