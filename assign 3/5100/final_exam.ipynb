{
 "cells": [
  {
   "attachments": {},
   "cell_type": "markdown",
   "metadata": {},
   "source": [
    "## Q1\n"
   ]
  },
  {
   "cell_type": "code",
   "execution_count": null,
   "metadata": {},
   "outputs": [],
   "source": [
    "import pandas as pd\n",
    "import sqlalchemy as sa"
   ]
  },
  {
   "cell_type": "code",
   "execution_count": null,
   "metadata": {},
   "outputs": [],
   "source": [
    "db_secret = {\n",
    "    'drivername': 'postgresql+psycopg2',\n",
    "    'host'      :'mmai5100postgres.canadacentral.cloudapp.azure.com',\n",
    "    'port'      :'5432',\n",
    "    'username'      :'luyiliu',\n",
    "    'password'  :'2023!Schulich',\n",
    "    'database'  :'mban_db'#you can put your database here 'liuyiliu_db'\n",
    "    \n",
    "}"
   ]
  },
  {
   "cell_type": "code",
   "execution_count": null,
   "metadata": {},
   "outputs": [],
   "source": [
    "db_connection_url = sa.engine.URL.create(\n",
    "    drivername = db_secret['drivername'],\n",
    "    username = db_secret['username'],\n",
    "    password = db_secret['password'],\n",
    "    host = db_secret['host'],\n",
    "    port = db_secret['port'],\n",
    "    database = db_secret['database']\n",
    ")"
   ]
  },
  {
   "cell_type": "code",
   "execution_count": null,
   "metadata": {},
   "outputs": [],
   "source": [
    "db_connection_url"
   ]
  },
  {
   "cell_type": "code",
   "execution_count": null,
   "metadata": {},
   "outputs": [],
   "source": [
    "engine = sa.create_engine(db_connection_url)"
   ]
  },
  {
   "cell_type": "code",
   "execution_count": null,
   "metadata": {},
   "outputs": [],
   "source": [
    "with engine.connect() as connection:\n",
    "    data = pd.read_sql(sql='SELECT * FROM dimensions.date_dimension;', con=connection)"
   ]
  },
  {
   "cell_type": "code",
   "execution_count": null,
   "metadata": {},
   "outputs": [],
   "source": [
    "### Use a sqlalchemy Connection to create a new schema in the database"
   ]
  },
  {
   "cell_type": "code",
   "execution_count": null,
   "metadata": {},
   "outputs": [],
   "source": [
    "db_secret = {\n",
    "    'drivername': 'postgresql+psycopg2',\n",
    "    'host'      :'mmai5100postgres.canadacentral.cloudapp.azure.com',\n",
    "    'port'      :'5432',\n",
    "    'username'      :'luyiliu',\n",
    "    'password'  :'2023!Schulich',\n",
    "    'database'  :'luyiliu_db'\n",
    "    \n",
    "}"
   ]
  },
  {
   "cell_type": "code",
   "execution_count": null,
   "metadata": {},
   "outputs": [],
   "source": [
    "db_connection_url = sa.engine.URL.create(\n",
    "    drivername = db_secret['drivername'],\n",
    "    username = db_secret['username'],\n",
    "    password = db_secret['password'],\n",
    "    host = db_secret['host'],\n",
    "    port = db_secret['port'],\n",
    "    database = db_secret['database']\n",
    ")"
   ]
  },
  {
   "cell_type": "code",
   "execution_count": null,
   "metadata": {},
   "outputs": [],
   "source": [
    "print(db_connection_url)"
   ]
  },
  {
   "cell_type": "code",
   "execution_count": null,
   "metadata": {},
   "outputs": [],
   "source": [
    "engine = sa.create_engine(db_connection_url)"
   ]
  },
  {
   "cell_type": "code",
   "execution_count": null,
   "metadata": {},
   "outputs": [],
   "source": [
    "create_table_query = '''\n",
    "CREATE TABLE IF NOT EXISTS final_exam;\n",
    "'''\n",
    "with engine.connect() as connection:\n",
    "    connection.execute('CREATE SCHEMA IF NOT EXISTS final_exam')\n",
    "    connection.execute(create_table_query)"
   ]
  },
  {
   "cell_type": "code",
   "execution_count": null,
   "metadata": {},
   "outputs": [],
   "source": [
    "date_dimension.to_sql(\n",
    "   name ='date_dimension',\n",
    "   schema = 'final_exam',\n",
    "   con = engine,\n",
    "   if_exists = 'replace',\n",
    "   index = False,\n",
    "   method='multi',)"
   ]
  },
  {
   "attachments": {},
   "cell_type": "markdown",
   "metadata": {},
   "source": [
    "##Q2\n"
   ]
  },
  {
   "cell_type": "code",
   "execution_count": null,
   "metadata": {},
   "outputs": [],
   "source": [
    "import pandas as pd\n",
    "import sqlalchemy as sa\n",
    "import requests"
   ]
  },
  {
   "cell_type": "code",
   "execution_count": null,
   "metadata": {},
   "outputs": [],
   "source": [
    "resource_id = '8a89caa9-511c-4568-af89-7f2174b4378c'\n",
    "limit = 1500\n",
    "offset = 0\n",
    "\n",
    "api_url = 'https://data.ontario.ca/en/api/3/action/datastore_search?resource_id={}&limit={}'.format(resource_id,limit)\n",
    "\n",
    "print(api_url)"
   ]
  },
  {
   "cell_type": "code",
   "execution_count": null,
   "metadata": {},
   "outputs": [],
   "source": [
    "api_response = requests.get(api_url)\n",
    "api_response"
   ]
  },
  {
   "cell_type": "code",
   "execution_count": null,
   "metadata": {},
   "outputs": [],
   "source": [
    "data = api_response.json()\n",
    "data"
   ]
  },
  {
   "cell_type": "code",
   "execution_count": null,
   "metadata": {},
   "outputs": [],
   "source": [
    "covid_19_vaccine_data = pd.DataFrame(data['result']['records'])\n",
    "covid_19_vaccine_data.tail()"
   ]
  },
  {
   "cell_type": "code",
   "execution_count": null,
   "metadata": {},
   "outputs": [],
   "source": [
    "\n",
    "covid_19_vaccine_data['report_date'] = pd.to_datetime(covid_19_vaccine_data['report_date'])\n",
    "covid_19_vaccine_data['dailyChange_total_individuals_fully_vaccinated'] = pd.to_numeric(covid_19_vaccine_data['total_individuals_fully_vaccinated'])\n",
    "covid_19_vaccine_data['dailyChange_total_individuals_fully_vaccinated'] = covid_19_vaccine_data['total_individuals_fully_vaccinated'].diff(1)\n",
    "covid_19_vaccine_data['dailyChange_total_individuals_fully_vaccinated'].fillna(0,inplace = True)\n",
    "\n",
    "relevant_columns = ['new_doses','new_doses_unvaccinated','new_doses_one_vaccine','new_doses_two_vaccines','new_doses_three_vaccines)']\n",
    "\n",
    "cleaned_vaccine_data = covid_19_vaccine_data[relevant_columns]"
   ]
  }
 ],
 "metadata": {
  "kernelspec": {
   "display_name": "Python 3",
   "language": "python",
   "name": "python3"
  },
  "language_info": {
   "codemirror_mode": {
    "name": "ipython",
    "version": 3
   },
   "file_extension": ".py",
   "mimetype": "text/x-python",
   "name": "python",
   "nbconvert_exporter": "python",
   "pygments_lexer": "ipython3",
   "version": "3.10.7"
  },
  "orig_nbformat": 4
 },
 "nbformat": 4,
 "nbformat_minor": 2
}
