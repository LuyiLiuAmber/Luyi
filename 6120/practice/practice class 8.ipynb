{
 "cells": [
  {
   "cell_type": "code",
   "execution_count": 15,
   "metadata": {},
   "outputs": [],
   "source": [
    "import pandas as pd\n",
    "import tensorflow as ts\n",
    "import numpy as np\n",
    "import matplotlib.pyplot as plt"
   ]
  },
  {
   "cell_type": "code",
   "execution_count": 16,
   "metadata": {},
   "outputs": [
    {
     "name": "stdout",
     "output_type": "stream",
     "text": [
      "Requirement already satisfied: tensorflow_datasets in /Library/Frameworks/Python.framework/Versions/3.10/lib/python3.10/site-packages (4.9.3)\n",
      "Requirement already satisfied: wrapt in /Library/Frameworks/Python.framework/Versions/3.10/lib/python3.10/site-packages (from tensorflow_datasets) (1.14.1)\n",
      "Requirement already satisfied: psutil in /Users/liu/Library/Python/3.10/lib/python/site-packages (from tensorflow_datasets) (5.9.5)\n",
      "Requirement already satisfied: protobuf>=3.20 in /Library/Frameworks/Python.framework/Versions/3.10/lib/python3.10/site-packages (from tensorflow_datasets) (3.20.3)\n",
      "Requirement already satisfied: array-record in /Library/Frameworks/Python.framework/Versions/3.10/lib/python3.10/site-packages (from tensorflow_datasets) (0.4.1)\n",
      "Requirement already satisfied: toml in /Library/Frameworks/Python.framework/Versions/3.10/lib/python3.10/site-packages (from tensorflow_datasets) (0.10.2)\n",
      "Requirement already satisfied: termcolor in /Library/Frameworks/Python.framework/Versions/3.10/lib/python3.10/site-packages (from tensorflow_datasets) (2.3.0)\n",
      "Requirement already satisfied: tensorflow-metadata in /Library/Frameworks/Python.framework/Versions/3.10/lib/python3.10/site-packages (from tensorflow_datasets) (1.14.0)\n",
      "Requirement already satisfied: dm-tree in /Library/Frameworks/Python.framework/Versions/3.10/lib/python3.10/site-packages (from tensorflow_datasets) (0.1.8)\n",
      "Requirement already satisfied: click in /Library/Frameworks/Python.framework/Versions/3.10/lib/python3.10/site-packages (from tensorflow_datasets) (8.1.7)\n",
      "Requirement already satisfied: etils[enp,epath,etree]>=0.9.0 in /Library/Frameworks/Python.framework/Versions/3.10/lib/python3.10/site-packages (from tensorflow_datasets) (1.5.2)\n",
      "Requirement already satisfied: tqdm in /Library/Frameworks/Python.framework/Versions/3.10/lib/python3.10/site-packages (from tensorflow_datasets) (4.66.1)\n",
      "Requirement already satisfied: absl-py in /Library/Frameworks/Python.framework/Versions/3.10/lib/python3.10/site-packages (from tensorflow_datasets) (1.4.0)\n",
      "Requirement already satisfied: promise in /Library/Frameworks/Python.framework/Versions/3.10/lib/python3.10/site-packages (from tensorflow_datasets) (2.3)\n",
      "Requirement already satisfied: numpy in /Library/Frameworks/Python.framework/Versions/3.10/lib/python3.10/site-packages (from tensorflow_datasets) (1.24.3)\n",
      "Requirement already satisfied: requests>=2.19.0 in /Library/Frameworks/Python.framework/Versions/3.10/lib/python3.10/site-packages (from tensorflow_datasets) (2.31.0)\n",
      "Requirement already satisfied: zipp in /Library/Frameworks/Python.framework/Versions/3.10/lib/python3.10/site-packages (from etils[enp,epath,etree]>=0.9.0->tensorflow_datasets) (3.17.0)\n",
      "Requirement already satisfied: importlib_resources in /Library/Frameworks/Python.framework/Versions/3.10/lib/python3.10/site-packages (from etils[enp,epath,etree]>=0.9.0->tensorflow_datasets) (6.1.1)\n",
      "Requirement already satisfied: typing_extensions in /Library/Frameworks/Python.framework/Versions/3.10/lib/python3.10/site-packages (from etils[enp,epath,etree]>=0.9.0->tensorflow_datasets) (4.8.0)\n",
      "Requirement already satisfied: fsspec in /Library/Frameworks/Python.framework/Versions/3.10/lib/python3.10/site-packages (from etils[enp,epath,etree]>=0.9.0->tensorflow_datasets) (2023.10.0)\n",
      "Requirement already satisfied: idna<4,>=2.5 in /Library/Frameworks/Python.framework/Versions/3.10/lib/python3.10/site-packages (from requests>=2.19.0->tensorflow_datasets) (3.4)\n",
      "Requirement already satisfied: charset-normalizer<4,>=2 in /Library/Frameworks/Python.framework/Versions/3.10/lib/python3.10/site-packages (from requests>=2.19.0->tensorflow_datasets) (3.3.2)\n",
      "Requirement already satisfied: urllib3<3,>=1.21.1 in /Library/Frameworks/Python.framework/Versions/3.10/lib/python3.10/site-packages (from requests>=2.19.0->tensorflow_datasets) (2.0.7)\n",
      "Requirement already satisfied: certifi>=2017.4.17 in /Library/Frameworks/Python.framework/Versions/3.10/lib/python3.10/site-packages (from requests>=2.19.0->tensorflow_datasets) (2022.6.15.1)\n",
      "Requirement already satisfied: six in /Users/liu/Library/Python/3.10/lib/python/site-packages (from promise->tensorflow_datasets) (1.16.0)\n",
      "Requirement already satisfied: googleapis-common-protos<2,>=1.52.0 in /Library/Frameworks/Python.framework/Versions/3.10/lib/python3.10/site-packages (from tensorflow-metadata->tensorflow_datasets) (1.61.0)\n",
      "--- Logging error ---\n",
      "Traceback (most recent call last):\n",
      "  File \"/Library/Frameworks/Python.framework/Versions/3.10/lib/python3.10/site-packages/pip/_internal/utils/logging.py\", line 177, in emit\n",
      "    self.console.print(renderable, overflow=\"ignore\", crop=False, style=style)\n",
      "  File \"/Library/Frameworks/Python.framework/Versions/3.10/lib/python3.10/site-packages/pip/_vendor/rich/console.py\", line 1673, in print\n",
      "    extend(render(renderable, render_options))\n",
      "  File \"/Library/Frameworks/Python.framework/Versions/3.10/lib/python3.10/site-packages/pip/_vendor/rich/console.py\", line 1305, in render\n",
      "    for render_output in iter_render:\n",
      "  File \"/Library/Frameworks/Python.framework/Versions/3.10/lib/python3.10/site-packages/pip/_internal/utils/logging.py\", line 134, in __rich_console__\n",
      "    for line in lines:\n",
      "  File \"/Library/Frameworks/Python.framework/Versions/3.10/lib/python3.10/site-packages/pip/_vendor/rich/segment.py\", line 249, in split_lines\n",
      "    for segment in segments:\n",
      "  File \"/Library/Frameworks/Python.framework/Versions/3.10/lib/python3.10/site-packages/pip/_vendor/rich/console.py\", line 1283, in render\n",
      "    renderable = rich_cast(renderable)\n",
      "  File \"/Library/Frameworks/Python.framework/Versions/3.10/lib/python3.10/site-packages/pip/_vendor/rich/protocol.py\", line 36, in rich_cast\n",
      "    renderable = cast_method()\n",
      "  File \"/Library/Frameworks/Python.framework/Versions/3.10/lib/python3.10/site-packages/pip/_internal/self_outdated_check.py\", line 130, in __rich__\n",
      "    pip_cmd = get_best_invocation_for_this_pip()\n",
      "  File \"/Library/Frameworks/Python.framework/Versions/3.10/lib/python3.10/site-packages/pip/_internal/utils/entrypoints.py\", line 58, in get_best_invocation_for_this_pip\n",
      "    if found_executable and os.path.samefile(\n",
      "  File \"/Library/Frameworks/Python.framework/Versions/3.10/lib/python3.10/genericpath.py\", line 101, in samefile\n",
      "    s2 = os.stat(f2)\n",
      "FileNotFoundError: [Errno 2] No such file or directory: '/Library/Frameworks/Python.framework/Versions/3.10/bin/pip'\n",
      "Call stack:\n",
      "  File \"/Library/Frameworks/Python.framework/Versions/3.10/lib/python3.10/runpy.py\", line 196, in _run_module_as_main\n",
      "    return _run_code(code, main_globals, None,\n",
      "  File \"/Library/Frameworks/Python.framework/Versions/3.10/lib/python3.10/runpy.py\", line 86, in _run_code\n",
      "    exec(code, run_globals)\n",
      "  File \"/Library/Frameworks/Python.framework/Versions/3.10/lib/python3.10/site-packages/pip/__main__.py\", line 31, in <module>\n",
      "    sys.exit(_main())\n",
      "  File \"/Library/Frameworks/Python.framework/Versions/3.10/lib/python3.10/site-packages/pip/_internal/cli/main.py\", line 70, in main\n",
      "    return command.main(cmd_args)\n",
      "  File \"/Library/Frameworks/Python.framework/Versions/3.10/lib/python3.10/site-packages/pip/_internal/cli/base_command.py\", line 101, in main\n",
      "    return self._main(args)\n",
      "  File \"/Library/Frameworks/Python.framework/Versions/3.10/lib/python3.10/site-packages/pip/_internal/cli/base_command.py\", line 223, in _main\n",
      "    self.handle_pip_version_check(options)\n",
      "  File \"/Library/Frameworks/Python.framework/Versions/3.10/lib/python3.10/site-packages/pip/_internal/cli/req_command.py\", line 190, in handle_pip_version_check\n",
      "    pip_self_version_check(session, options)\n",
      "  File \"/Library/Frameworks/Python.framework/Versions/3.10/lib/python3.10/site-packages/pip/_internal/self_outdated_check.py\", line 236, in pip_self_version_check\n",
      "    logger.warning(\"[present-rich] %s\", upgrade_prompt)\n",
      "  File \"/Library/Frameworks/Python.framework/Versions/3.10/lib/python3.10/logging/__init__.py\", line 1489, in warning\n",
      "    self._log(WARNING, msg, args, **kwargs)\n",
      "  File \"/Library/Frameworks/Python.framework/Versions/3.10/lib/python3.10/logging/__init__.py\", line 1624, in _log\n",
      "    self.handle(record)\n",
      "  File \"/Library/Frameworks/Python.framework/Versions/3.10/lib/python3.10/logging/__init__.py\", line 1634, in handle\n",
      "    self.callHandlers(record)\n",
      "  File \"/Library/Frameworks/Python.framework/Versions/3.10/lib/python3.10/logging/__init__.py\", line 1696, in callHandlers\n",
      "    hdlr.handle(record)\n",
      "  File \"/Library/Frameworks/Python.framework/Versions/3.10/lib/python3.10/logging/__init__.py\", line 968, in handle\n",
      "    self.emit(record)\n",
      "  File \"/Library/Frameworks/Python.framework/Versions/3.10/lib/python3.10/site-packages/pip/_internal/utils/logging.py\", line 179, in emit\n",
      "    self.handleError(record)\n",
      "Message: '[present-rich] %s'\n",
      "Arguments: (UpgradePrompt(old='22.2.2', new='23.3.1'),)\n",
      "Note: you may need to restart the kernel to use updated packages.\n"
     ]
    }
   ],
   "source": [
    "pip install tensorflow_datasets"
   ]
  },
  {
   "cell_type": "code",
   "execution_count": 17,
   "metadata": {},
   "outputs": [],
   "source": [
    "import tensorflow_datasets as tfds"
   ]
  },
  {
   "cell_type": "code",
   "execution_count": 18,
   "metadata": {},
   "outputs": [],
   "source": [
    "(train, test) = tfds.load('mnist',\n",
    "                                split = ['train','test'])"
   ]
  },
  {
   "cell_type": "code",
   "execution_count": 19,
   "metadata": {},
   "outputs": [
    {
     "data": {
      "text/plain": [
       "<_PrefetchDataset element_spec={'image': TensorSpec(shape=(28, 28, 1), dtype=tf.uint8, name=None), 'label': TensorSpec(shape=(), dtype=tf.int64, name=None)}>"
      ]
     },
     "execution_count": 19,
     "metadata": {},
     "output_type": "execute_result"
    }
   ],
   "source": [
    "test"
   ]
  },
  {
   "cell_type": "code",
   "execution_count": 20,
   "metadata": {},
   "outputs": [],
   "source": [
    "from sklearn.preprocessing import StandardScaler\n",
    "from sklearn.preprocessing import OneHotEncoder\n",
    "def load_dataset(train_size, test_size):\n",
    "    train, test = tf.keras.datasets.mnist.load_data()\n",
    "\n",
    "    # take a sample\n",
    "    train_idx = np.random.randint(low=0, high=train[0].shape[0], size=train_size)\n",
    "    test_idx = np.random.randint(low=0, high=test[0].shape[0], size=test_size)\n",
    "    X_train = train[0][train_idx].reshape(-1,28*28)\n",
    "    y_train = train[1][train_idx].reshape(-1,1)\n",
    "    X_test = test[0][test_idx].reshape(-1,28*28)\n",
    "    y_test = test[1][test_idx].reshape(-1,1)\n",
    "    \n",
    "    scale = StandardScaler()\n",
    "    X_train = scale.fit_transform(X_train)\n",
    "    X_test = scale.transform(X_test)\n",
    "\n",
    "    OH = OneHotEncoder(categories='auto', sparse=False)\n",
    "    y_train = OH.fit_transform(y_train)\n",
    "    y_test = OH.transform(y_test)\n",
    "    \n",
    "    print('X_train:',X_train.shape)\n",
    "    print('y_train:',y_train.shape)\n",
    "    print('X_test:',X_test.shape)\n",
    "    print('y_test:',y_test.shape)\n",
    "    print('Min:', X_train.min())\n",
    "    print('Max:', X_train.max())\n",
    "\n",
    "    return X_train, X_test, y_train, y_test"
   ]
  },
  {
   "cell_type": "code",
   "execution_count": 21,
   "metadata": {},
   "outputs": [],
   "source": [
    "import tensorflow as tf"
   ]
  },
  {
   "cell_type": "code",
   "execution_count": 22,
   "metadata": {},
   "outputs": [
    {
     "name": "stdout",
     "output_type": "stream",
     "text": [
      "X_train: (65000, 784)\n",
      "y_train: (65000, 10)\n",
      "X_test: (65000, 784)\n",
      "y_test: (65000, 10)\n",
      "Min: -1.274545977319639\n",
      "Max: 254.94901451107847\n"
     ]
    },
    {
     "name": "stderr",
     "output_type": "stream",
     "text": [
      "/Library/Frameworks/Python.framework/Versions/3.10/lib/python3.10/site-packages/sklearn/preprocessing/_encoders.py:868: FutureWarning: `sparse` was renamed to `sparse_output` in version 1.2 and will be removed in 1.4. `sparse_output` is ignored unless you leave `sparse` to its default value.\n",
      "  warnings.warn(\n"
     ]
    }
   ],
   "source": [
    "X_train, X_test, y_train, y_test = load_dataset(65000,65000)"
   ]
  },
  {
   "cell_type": "markdown",
   "metadata": {},
   "source": [
    "## Optimaizing at the Initialization Stage"
   ]
  },
  {
   "cell_type": "code",
   "execution_count": 23,
   "metadata": {},
   "outputs": [],
   "source": [
    "from tensorflow.keras import layers"
   ]
  },
  {
   "cell_type": "code",
   "execution_count": 24,
   "metadata": {},
   "outputs": [],
   "source": [
    "def simple_model(initializer, activation='relu'):\n",
    "    return tf.keras.Sequential([layers.Dense(32, activation, input_shape=(784,), kernel_initializer=initializer),\n",
    "                                layers.Dense(32, activation, kernel_initializer=initializer),\n",
    "                                layers.Dense(32, activation, kernel_initializer=initializer),\n",
    "                                layers.Dense(32, activation, kernel_initializer=initializer),\n",
    "                                layers.Dense(10, activation = 'softmax', kernel_initializer=tf.keras.initializers.glorot_normal())\n",
    "\n",
    "\n",
    "\n",
    "    ])"
   ]
  },
  {
   "cell_type": "code",
   "execution_count": 25,
   "metadata": {},
   "outputs": [],
   "source": [
    "init = tf.initializers.zeros()\n",
    "activate = 'relu'\n",
    "optimizer = tf.keras.optimizers.SGD(learning_rate=0.01)"
   ]
  },
  {
   "cell_type": "code",
   "execution_count": 26,
   "metadata": {},
   "outputs": [],
   "source": [
    "model_zeros = simple_model(init, activate)"
   ]
  },
  {
   "cell_type": "code",
   "execution_count": 27,
   "metadata": {},
   "outputs": [
    {
     "name": "stdout",
     "output_type": "stream",
     "text": [
      "Epoch 1/10\n",
      "21/21 [==============================] - 3s 98ms/step - loss: 2.3026 - accuracy: 0.1114 - val_loss: 2.3025 - val_accuracy: 0.1135\n",
      "Epoch 2/10\n",
      "21/21 [==============================] - 0s 23ms/step - loss: 2.3025 - accuracy: 0.1125 - val_loss: 2.3025 - val_accuracy: 0.1135\n",
      "Epoch 3/10\n",
      "21/21 [==============================] - 0s 16ms/step - loss: 2.3024 - accuracy: 0.1125 - val_loss: 2.3024 - val_accuracy: 0.1135\n",
      "Epoch 4/10\n",
      "21/21 [==============================] - 0s 15ms/step - loss: 2.3024 - accuracy: 0.1125 - val_loss: 2.3023 - val_accuracy: 0.1135\n",
      "Epoch 5/10\n",
      "21/21 [==============================] - 0s 16ms/step - loss: 2.3023 - accuracy: 0.1125 - val_loss: 2.3023 - val_accuracy: 0.1135\n",
      "Epoch 6/10\n",
      "21/21 [==============================] - 0s 16ms/step - loss: 2.3022 - accuracy: 0.1125 - val_loss: 2.3022 - val_accuracy: 0.1135\n",
      "Epoch 7/10\n",
      "21/21 [==============================] - 0s 15ms/step - loss: 2.3022 - accuracy: 0.1125 - val_loss: 2.3022 - val_accuracy: 0.1135\n",
      "Epoch 8/10\n",
      "21/21 [==============================] - 0s 15ms/step - loss: 2.3021 - accuracy: 0.1125 - val_loss: 2.3021 - val_accuracy: 0.1135\n",
      "Epoch 9/10\n",
      "21/21 [==============================] - 0s 15ms/step - loss: 2.3021 - accuracy: 0.1125 - val_loss: 2.3021 - val_accuracy: 0.1135\n",
      "Epoch 10/10\n",
      "21/21 [==============================] - 0s 17ms/step - loss: 2.3020 - accuracy: 0.1125 - val_loss: 2.3020 - val_accuracy: 0.1135\n"
     ]
    },
    {
     "data": {
      "text/plain": [
       "<keras.src.callbacks.History at 0x167f7f730>"
      ]
     },
     "execution_count": 27,
     "metadata": {},
     "output_type": "execute_result"
    }
   ],
   "source": [
    "model_zeros.compile(optimizer=optimizer, loss='categorical_crossentropy', metrics=['accuracy'])\n",
    "model_zeros.fit(X_train, y_train, epochs=10, batch_size=3200, validation_data=(X_test, y_test))"
   ]
  },
  {
   "cell_type": "code",
   "execution_count": 28,
   "metadata": {},
   "outputs": [
    {
     "name": "stderr",
     "output_type": "stream",
     "text": [
      "/Library/Frameworks/Python.framework/Versions/3.10/lib/python3.10/site-packages/keras/src/initializers/initializers.py:120: UserWarning: The initializer RandomNormal is unseeded and being called multiple times, which will return identical values each time (even if the initializer is unseeded). Please update your code to provide a seed to the initializer, or avoid using the same initializer instance more than once.\n",
      "  warnings.warn(\n"
     ]
    },
    {
     "name": "stdout",
     "output_type": "stream",
     "text": [
      "Epoch 1/10\n",
      "21/21 [==============================] - 2s 83ms/step - loss: 2.3019 - accuracy: 0.1080 - val_loss: 2.3017 - val_accuracy: 0.1435\n",
      "Epoch 2/10\n",
      "21/21 [==============================] - 0s 23ms/step - loss: 2.3015 - accuracy: 0.1638 - val_loss: 2.3013 - val_accuracy: 0.1779\n",
      "Epoch 3/10\n",
      "21/21 [==============================] - 0s 18ms/step - loss: 2.3012 - accuracy: 0.1824 - val_loss: 2.3010 - val_accuracy: 0.1784\n",
      "Epoch 4/10\n",
      "21/21 [==============================] - 0s 17ms/step - loss: 2.3009 - accuracy: 0.1795 - val_loss: 2.3008 - val_accuracy: 0.1737\n",
      "Epoch 5/10\n",
      "21/21 [==============================] - 0s 17ms/step - loss: 2.3007 - accuracy: 0.1713 - val_loss: 2.3006 - val_accuracy: 0.1668\n",
      "Epoch 6/10\n",
      "21/21 [==============================] - 0s 15ms/step - loss: 2.3005 - accuracy: 0.1669 - val_loss: 2.3004 - val_accuracy: 0.1598\n",
      "Epoch 7/10\n",
      "21/21 [==============================] - 0s 18ms/step - loss: 2.3003 - accuracy: 0.1604 - val_loss: 2.3002 - val_accuracy: 0.1515\n",
      "Epoch 8/10\n",
      "21/21 [==============================] - 0s 18ms/step - loss: 2.3001 - accuracy: 0.1525 - val_loss: 2.3000 - val_accuracy: 0.1470\n",
      "Epoch 9/10\n",
      "21/21 [==============================] - 0s 20ms/step - loss: 2.2999 - accuracy: 0.1473 - val_loss: 2.2998 - val_accuracy: 0.1428\n",
      "Epoch 10/10\n",
      "21/21 [==============================] - 0s 18ms/step - loss: 2.2997 - accuracy: 0.1431 - val_loss: 2.2996 - val_accuracy: 0.1391\n"
     ]
    },
    {
     "data": {
      "text/plain": [
       "<keras.src.callbacks.History at 0x1682a6470>"
      ]
     },
     "execution_count": 28,
     "metadata": {},
     "output_type": "execute_result"
    }
   ],
   "source": [
    "init = tf.initializers.random_normal()\n",
    "activate = 'relu'\n",
    "optimizer = tf.keras.optimizers.SGD(learning_rate=0.01)\n",
    "model_normal = simple_model(init, activate)\n",
    "model_normal.compile(optimizer=optimizer, loss='categorical_crossentropy', metrics=['accuracy'])\n",
    "model_normal.fit(X_train, y_train, epochs=10, batch_size=3200, validation_data=(X_test, y_test))"
   ]
  },
  {
   "cell_type": "code",
   "execution_count": 29,
   "metadata": {},
   "outputs": [
    {
     "name": "stderr",
     "output_type": "stream",
     "text": [
      "/Library/Frameworks/Python.framework/Versions/3.10/lib/python3.10/site-packages/keras/src/initializers/initializers.py:120: UserWarning: The initializer GlorotUniform is unseeded and being called multiple times, which will return identical values each time (even if the initializer is unseeded). Please update your code to provide a seed to the initializer, or avoid using the same initializer instance more than once.\n",
      "  warnings.warn(\n"
     ]
    },
    {
     "name": "stdout",
     "output_type": "stream",
     "text": [
      "Epoch 1/10\n",
      "21/21 [==============================] - 2s 76ms/step - loss: 2.3403 - accuracy: 0.0816 - val_loss: 2.3073 - val_accuracy: 0.1050\n",
      "Epoch 2/10\n",
      "21/21 [==============================] - 2s 83ms/step - loss: 2.2882 - accuracy: 0.1291 - val_loss: 2.2604 - val_accuracy: 0.1678\n",
      "Epoch 3/10\n",
      "21/21 [==============================] - 1s 29ms/step - loss: 2.2427 - accuracy: 0.1975 - val_loss: 2.2158 - val_accuracy: 0.2392\n",
      "Epoch 4/10\n",
      "21/21 [==============================] - 0s 22ms/step - loss: 2.1968 - accuracy: 0.2606 - val_loss: 2.1679 - val_accuracy: 0.2874\n",
      "Epoch 5/10\n",
      "21/21 [==============================] - 1s 26ms/step - loss: 2.1457 - accuracy: 0.3017 - val_loss: 2.1136 - val_accuracy: 0.3209\n",
      "Epoch 6/10\n",
      "21/21 [==============================] - 0s 18ms/step - loss: 2.0873 - accuracy: 0.3312 - val_loss: 2.0512 - val_accuracy: 0.3422\n",
      "Epoch 7/10\n",
      "21/21 [==============================] - 0s 18ms/step - loss: 2.0209 - accuracy: 0.3533 - val_loss: 1.9817 - val_accuracy: 0.3624\n",
      "Epoch 8/10\n",
      "21/21 [==============================] - 0s 23ms/step - loss: 1.9485 - accuracy: 0.3765 - val_loss: 1.9070 - val_accuracy: 0.3856\n",
      "Epoch 9/10\n",
      "21/21 [==============================] - 0s 23ms/step - loss: 1.8721 - accuracy: 0.3999 - val_loss: 1.8297 - val_accuracy: 0.4109\n",
      "Epoch 10/10\n",
      "21/21 [==============================] - 0s 19ms/step - loss: 1.7941 - accuracy: 0.4264 - val_loss: 1.7512 - val_accuracy: 0.4424\n"
     ]
    },
    {
     "data": {
      "text/plain": [
       "<keras.src.callbacks.History at 0x1685b14e0>"
      ]
     },
     "execution_count": 29,
     "metadata": {},
     "output_type": "execute_result"
    }
   ],
   "source": [
    "init = tf.initializers.glorot_uniform()\n",
    "activate = 'relu'\n",
    "optimizer = tf.keras.optimizers.SGD(learning_rate=0.01)\n",
    "model_glorotu = simple_model(init, activate)\n",
    "model_glorotu.compile(optimizer=optimizer, loss='categorical_crossentropy', metrics=['accuracy'])\n",
    "model_glorotu.fit(X_train, y_train, epochs=10, batch_size=3200, validation_data=(X_test, y_test))"
   ]
  },
  {
   "cell_type": "code",
   "execution_count": 30,
   "metadata": {},
   "outputs": [
    {
     "name": "stderr",
     "output_type": "stream",
     "text": [
      "/Library/Frameworks/Python.framework/Versions/3.10/lib/python3.10/site-packages/keras/src/initializers/initializers.py:120: UserWarning: The initializer HeUniform is unseeded and being called multiple times, which will return identical values each time (even if the initializer is unseeded). Please update your code to provide a seed to the initializer, or avoid using the same initializer instance more than once.\n",
      "  warnings.warn(\n"
     ]
    },
    {
     "name": "stdout",
     "output_type": "stream",
     "text": [
      "Epoch 1/10\n",
      "21/21 [==============================] - 4s 153ms/step - loss: 2.5638 - accuracy: 0.1261 - val_loss: 2.2760 - val_accuracy: 0.1871\n",
      "Epoch 2/10\n",
      "21/21 [==============================] - 0s 20ms/step - loss: 2.1233 - accuracy: 0.2611 - val_loss: 2.0239 - val_accuracy: 0.3206\n",
      "Epoch 3/10\n",
      "21/21 [==============================] - 0s 14ms/step - loss: 1.9005 - accuracy: 0.3813 - val_loss: 1.8329 - val_accuracy: 0.4183\n",
      "Epoch 4/10\n",
      "21/21 [==============================] - 0s 15ms/step - loss: 1.7175 - accuracy: 0.4643 - val_loss: 1.6663 - val_accuracy: 0.4839\n",
      "Epoch 5/10\n",
      "21/21 [==============================] - 0s 15ms/step - loss: 1.5604 - accuracy: 0.5220 - val_loss: 1.5216 - val_accuracy: 0.5384\n",
      "Epoch 6/10\n",
      "21/21 [==============================] - 0s 15ms/step - loss: 1.4238 - accuracy: 0.5733 - val_loss: 1.3928 - val_accuracy: 0.5851\n",
      "Epoch 7/10\n",
      "21/21 [==============================] - 0s 14ms/step - loss: 1.3023 - accuracy: 0.6227 - val_loss: 1.2760 - val_accuracy: 0.6387\n",
      "Epoch 8/10\n",
      "21/21 [==============================] - 0s 14ms/step - loss: 1.1903 - accuracy: 0.6707 - val_loss: 1.1671 - val_accuracy: 0.6823\n",
      "Epoch 9/10\n",
      "21/21 [==============================] - 0s 15ms/step - loss: 1.0856 - accuracy: 0.7093 - val_loss: 1.0645 - val_accuracy: 0.7183\n",
      "Epoch 10/10\n",
      "21/21 [==============================] - 0s 14ms/step - loss: 0.9883 - accuracy: 0.7403 - val_loss: 0.9706 - val_accuracy: 0.7477\n"
     ]
    },
    {
     "data": {
      "text/plain": [
       "<keras.src.callbacks.History at 0x1688de4a0>"
      ]
     },
     "execution_count": 30,
     "metadata": {},
     "output_type": "execute_result"
    }
   ],
   "source": [
    "init = tf.initializers.he_uniform()\n",
    "activate = 'relu'\n",
    "optimizer = tf.keras.optimizers.SGD(learning_rate=0.01)\n",
    "model_heu = simple_model(init, activate)\n",
    "model_heu.compile(optimizer=optimizer, loss='categorical_crossentropy', metrics=['accuracy'])\n",
    "model_heu.fit(X_train, y_train, epochs=10, batch_size=3200, validation_data=(X_test, y_test))"
   ]
  },
  {
   "cell_type": "code",
   "execution_count": 31,
   "metadata": {},
   "outputs": [
    {
     "data": {
      "text/plain": [
       "Text(0, 0.5, 'Validation Accuracy')"
      ]
     },
     "execution_count": 31,
     "metadata": {},
     "output_type": "execute_result"
    },
    {
     "data": {
      "image/png": "[encoded data removed]",
      "text/plain": [
       "<Figure size 640x480 with 1 Axes>"
      ]
     },
     "metadata": {},
     "output_type": "display_data"
    }
   ],
   "source": [
    "for i in [model_heu, model_normal, model_glorotu, model_zeros]:\n",
    "    plt.plot(i.history.history['val_accuracy'], label=i.get_config()['layers'][1]['config']['kernel_initializer']['class_name'])\n",
    "\n",
    "plt.legend()\n",
    "plt.xlabel('Epoch')\n",
    "plt.ylabel('Validation Accuracy')"
   ]
  },
  {
   "cell_type": "code",
   "execution_count": 32,
   "metadata": {},
   "outputs": [],
   "source": [
    "def simple_model_bn(initializer = 'he_uniform', activation='relu'):\n",
    "    return tf.keras.Sequential([layers.Dense(32, activation, input_shape=(784,), kernel_initializer=initializer),\n",
    "                                layers.BatchNormalization(trainable=True, scale=True, center=True),\n",
    "                                layers.Dense(32, activation, kernel_initializer=initializer),\n",
    "                                layers.BatchNormalization(trainable=True, scale=True, center=True),\n",
    "                                layers.Dense(32, activation, kernel_initializer=initializer),\n",
    "                                layers.BatchNormalization(trainable=True, scale=True, center=True),\n",
    "                                layers.Dense(32, activation, kernel_initializer=initializer),\n",
    "                                layers.BatchNormalization(trainable=True, scale=True, center=True),\n",
    "                                layers.Dense(10, activation = 'softmax', kernel_initializer=tf.keras.initializers.glorot_normal())\n",
    "\n",
    "\n",
    "\n",
    "    ])"
   ]
  },
  {
   "cell_type": "code",
   "execution_count": 33,
   "metadata": {},
   "outputs": [
    {
     "name": "stdout",
     "output_type": "stream",
     "text": [
      "Model: \"sequential_7\"\n",
      "_________________________________________________________________\n",
      " Layer (type)                Output Shape              Param #   \n",
      "=================================================================\n",
      " dense_35 (Dense)            (None, 32)                25120     \n",
      "                                                                 \n",
      " batch_normalization (Batch  (None, 32)                128       \n",
      " Normalization)                                                  \n",
      "                                                                 \n",
      " dense_36 (Dense)            (None, 32)                1056      \n",
      "                                                                 \n",
      " batch_normalization_1 (Bat  (None, 32)                128       \n",
      " chNormalization)                                                \n",
      "                                                                 \n",
      " dense_37 (Dense)            (None, 32)                1056      \n",
      "                                                                 \n",
      " batch_normalization_2 (Bat  (None, 32)                128       \n",
      " chNormalization)                                                \n",
      "                                                                 \n",
      " dense_38 (Dense)            (None, 32)                1056      \n",
      "                                                                 \n",
      " batch_normalization_3 (Bat  (None, 32)                128       \n",
      " chNormalization)                                                \n",
      "                                                                 \n",
      " dense_39 (Dense)            (None, 10)                330       \n",
      "                                                                 \n",
      "=================================================================\n",
      "Total params: 29130 (113.79 KB)\n",
      "Trainable params: 28874 (112.79 KB)\n",
      "Non-trainable params: 256 (1.00 KB)\n",
      "_________________________________________________________________\n"
     ]
    }
   ],
   "source": [
    "simple_model_bn().summary()"
   ]
  },
  {
   "cell_type": "code",
   "execution_count": 34,
   "metadata": {},
   "outputs": [
    {
     "name": "stdout",
     "output_type": "stream",
     "text": [
      "Epoch 1/10\n",
      "21/21 [==============================] - 4s 97ms/step - loss: 1.9561 - accuracy: 0.3685 - val_loss: 2.2956 - val_accuracy: 0.2664\n",
      "Epoch 2/10\n",
      "21/21 [==============================] - 1s 27ms/step - loss: 1.2396 - accuracy: 0.6330 - val_loss: 2.2845 - val_accuracy: 0.3120\n",
      "Epoch 3/10\n",
      "21/21 [==============================] - 0s 20ms/step - loss: 0.9520 - accuracy: 0.7273 - val_loss: 2.2676 - val_accuracy: 0.3249\n",
      "Epoch 4/10\n",
      "21/21 [==============================] - 0s 24ms/step - loss: 0.7832 - accuracy: 0.7800 - val_loss: 2.2430 - val_accuracy: 0.3338\n",
      "Epoch 5/10\n",
      "21/21 [==============================] - 0s 22ms/step - loss: 0.6757 - accuracy: 0.8106 - val_loss: 2.2089 - val_accuracy: 0.3625\n",
      "Epoch 6/10\n",
      "21/21 [==============================] - 0s 20ms/step - loss: 0.6035 - accuracy: 0.8311 - val_loss: 2.1629 - val_accuracy: 0.3916\n",
      "Epoch 7/10\n",
      "21/21 [==============================] - 0s 20ms/step - loss: 0.5500 - accuracy: 0.8456 - val_loss: 2.1023 - val_accuracy: 0.4363\n",
      "Epoch 8/10\n",
      "21/21 [==============================] - 0s 20ms/step - loss: 0.5091 - accuracy: 0.8573 - val_loss: 2.0256 - val_accuracy: 0.5221\n",
      "Epoch 9/10\n",
      "21/21 [==============================] - 0s 20ms/step - loss: 0.4764 - accuracy: 0.8666 - val_loss: 1.9298 - val_accuracy: 0.6468\n",
      "Epoch 10/10\n",
      "21/21 [==============================] - 0s 19ms/step - loss: 0.4488 - accuracy: 0.8746 - val_loss: 1.8159 - val_accuracy: 0.7357\n"
     ]
    },
    {
     "data": {
      "text/plain": [
       "<keras.src.callbacks.History at 0x1679024d0>"
      ]
     },
     "execution_count": 34,
     "metadata": {},
     "output_type": "execute_result"
    }
   ],
   "source": [
    "init = tf.keras.initializers.random_normal()\n",
    "activate = 'relu'\n",
    "\n",
    "optimizer = tf.keras.optimizers.SGD(0.01)\n",
    "model_bn = simple_model_bn(init, activate)\n",
    "model_bn.compile(optimizer=optimizer, loss='categorical_crossentropy', metrics=['accuracy'])\n",
    "model_bn.fit(X_train, y_train, epochs=10, batch_size=3200, validation_data = (X_test, y_test))"
   ]
  },
  {
   "cell_type": "code",
   "execution_count": 35,
   "metadata": {},
   "outputs": [
    {
     "name": "stderr",
     "output_type": "stream",
     "text": [
      "/Library/Frameworks/Python.framework/Versions/3.10/lib/python3.10/site-packages/keras/src/initializers/initializers.py:120: UserWarning: The initializer RandomUniform is unseeded and being called multiple times, which will return identical values each time (even if the initializer is unseeded). Please update your code to provide a seed to the initializer, or avoid using the same initializer instance more than once.\n",
      "  warnings.warn(\n"
     ]
    },
    {
     "name": "stdout",
     "output_type": "stream",
     "text": [
      "Epoch 1/10\n",
      "21/21 [==============================] - 4s 79ms/step - loss: 1.0305 - accuracy: 0.6959 - val_loss: 2.2969 - val_accuracy: 0.1035\n",
      "Epoch 2/10\n",
      "21/21 [==============================] - 0s 21ms/step - loss: 0.4615 - accuracy: 0.8729 - val_loss: 2.2901 - val_accuracy: 0.1049\n",
      "Epoch 3/10\n",
      "21/21 [==============================] - 0s 22ms/step - loss: 0.3487 - accuracy: 0.9047 - val_loss: 2.2808 - val_accuracy: 0.1434\n",
      "Epoch 4/10\n",
      "21/21 [==============================] - 0s 20ms/step - loss: 0.2915 - accuracy: 0.9215 - val_loss: 2.2683 - val_accuracy: 0.2215\n",
      "Epoch 5/10\n",
      "21/21 [==============================] - 1s 27ms/step - loss: 0.2540 - accuracy: 0.9322 - val_loss: 2.2503 - val_accuracy: 0.3114\n",
      "Epoch 6/10\n",
      "21/21 [==============================] - 0s 22ms/step - loss: 0.2274 - accuracy: 0.9396 - val_loss: 2.2276 - val_accuracy: 0.4159\n",
      "Epoch 7/10\n",
      "21/21 [==============================] - 0s 23ms/step - loss: 0.2062 - accuracy: 0.9448 - val_loss: 2.1947 - val_accuracy: 0.5576\n",
      "Epoch 8/10\n",
      "21/21 [==============================] - 0s 23ms/step - loss: 0.1895 - accuracy: 0.9492 - val_loss: 2.1510 - val_accuracy: 0.6595\n",
      "Epoch 9/10\n",
      "21/21 [==============================] - 0s 21ms/step - loss: 0.1752 - accuracy: 0.9530 - val_loss: 2.0949 - val_accuracy: 0.7289\n",
      "Epoch 10/10\n",
      "21/21 [==============================] - 0s 20ms/step - loss: 0.1629 - accuracy: 0.9567 - val_loss: 2.0237 - val_accuracy: 0.7513\n"
     ]
    },
    {
     "data": {
      "text/plain": [
       "<keras.src.callbacks.History at 0x16911c3a0>"
      ]
     },
     "execution_count": 35,
     "metadata": {},
     "output_type": "execute_result"
    }
   ],
   "source": [
    "init = tf.keras.initializers.random_uniform()\n",
    "activate = 'relu'\n",
    "\n",
    "optimizer = tf.keras.optimizers.Adagrad(learning_rate=0.01)\n",
    "model_bn_ad = simple_model_bn(init, activate)\n",
    "model_bn_ad.compile(optimizer=optimizer, loss='categorical_crossentropy', metrics=['accuracy'])\n",
    "model_bn_ad.fit(X_train, y_train, epochs=10, batch_size=3200, validation_data = (X_test, y_test))"
   ]
  },
  {
   "cell_type": "code",
   "execution_count": 36,
   "metadata": {},
   "outputs": [
    {
     "name": "stdout",
     "output_type": "stream",
     "text": [
      "Epoch 1/10\n",
      "21/21 [==============================] - 5s 92ms/step - loss: 0.8103 - accuracy: 0.7472 - val_loss: 2.0900 - val_accuracy: 0.2618\n",
      "Epoch 2/10\n",
      "21/21 [==============================] - 0s 23ms/step - loss: 0.2620 - accuracy: 0.9235 - val_loss: 1.8165 - val_accuracy: 0.5220\n",
      "Epoch 3/10\n",
      "21/21 [==============================] - 1s 25ms/step - loss: 0.1797 - accuracy: 0.9465 - val_loss: 1.6353 - val_accuracy: 0.6128\n",
      "Epoch 4/10\n",
      "21/21 [==============================] - 1s 25ms/step - loss: 0.1354 - accuracy: 0.9601 - val_loss: 1.4440 - val_accuracy: 0.6879\n",
      "Epoch 5/10\n",
      "21/21 [==============================] - 1s 28ms/step - loss: 0.1107 - accuracy: 0.9672 - val_loss: 1.2097 - val_accuracy: 0.8316\n",
      "Epoch 6/10\n",
      "21/21 [==============================] - 0s 21ms/step - loss: 0.0906 - accuracy: 0.9734 - val_loss: 0.9935 - val_accuracy: 0.8810\n",
      "Epoch 7/10\n",
      "21/21 [==============================] - 0s 19ms/step - loss: 0.0777 - accuracy: 0.9772 - val_loss: 0.7582 - val_accuracy: 0.9112\n",
      "Epoch 8/10\n",
      "21/21 [==============================] - 0s 22ms/step - loss: 0.0707 - accuracy: 0.9787 - val_loss: 0.5745 - val_accuracy: 0.9272\n",
      "Epoch 9/10\n",
      "21/21 [==============================] - 0s 20ms/step - loss: 0.0615 - accuracy: 0.9819 - val_loss: 0.4060 - val_accuracy: 0.9396\n",
      "Epoch 10/10\n",
      "21/21 [==============================] - 0s 23ms/step - loss: 0.0524 - accuracy: 0.9847 - val_loss: 0.2919 - val_accuracy: 0.9426\n"
     ]
    },
    {
     "data": {
      "text/plain": [
       "<keras.src.callbacks.History at 0x16966abf0>"
      ]
     },
     "execution_count": 36,
     "metadata": {},
     "output_type": "execute_result"
    }
   ],
   "source": [
    "init = tf.keras.initializers.random_uniform()\n",
    "activate = 'relu'\n",
    "\n",
    "optimizer = tf.keras.optimizers.Adam(learning_rate=0.01)\n",
    "model_bn_adam = simple_model_bn(init, activate)\n",
    "model_bn_adam.compile(optimizer=optimizer, loss='categorical_crossentropy', metrics=['accuracy'])\n",
    "model_bn_adam.fit(X_train, y_train, epochs=10, batch_size=3200, validation_data = (X_test, y_test))"
   ]
  },
  {
   "cell_type": "code",
   "execution_count": 37,
   "metadata": {},
   "outputs": [],
   "source": [
    "from tensorflow.keras.callbacks import EarlyStopping"
   ]
  },
  {
   "cell_type": "code",
   "execution_count": 38,
   "metadata": {},
   "outputs": [
    {
     "name": "stdout",
     "output_type": "stream",
     "text": [
      "Epoch 1/10\n",
      "21/21 [==============================] - 7s 159ms/step - loss: 0.8012 - accuracy: 0.7527 - val_loss: 1.9912 - val_accuracy: 0.6065\n",
      "Epoch 2/10\n",
      "21/21 [==============================] - 1s 27ms/step - loss: 0.2334 - accuracy: 0.9322 - val_loss: 1.6823 - val_accuracy: 0.7566\n",
      "Epoch 3/10\n",
      "21/21 [==============================] - 0s 22ms/step - loss: 0.1618 - accuracy: 0.9534 - val_loss: 1.4878 - val_accuracy: 0.8126\n",
      "Epoch 4/10\n",
      "21/21 [==============================] - 0s 20ms/step - loss: 0.1255 - accuracy: 0.9634 - val_loss: 1.2958 - val_accuracy: 0.8498\n",
      "Epoch 5/10\n",
      "21/21 [==============================] - 0s 20ms/step - loss: 0.1024 - accuracy: 0.9704 - val_loss: 1.0916 - val_accuracy: 0.8886\n",
      "Epoch 6/10\n",
      "21/21 [==============================] - 0s 21ms/step - loss: 0.0836 - accuracy: 0.9756 - val_loss: 0.8684 - val_accuracy: 0.9040\n",
      "Epoch 7/10\n",
      "21/21 [==============================] - 0s 20ms/step - loss: 0.0685 - accuracy: 0.9800 - val_loss: 0.6656 - val_accuracy: 0.9162\n",
      "Epoch 8/10\n",
      "21/21 [==============================] - 0s 20ms/step - loss: 0.0619 - accuracy: 0.9820 - val_loss: 0.4620 - val_accuracy: 0.9310\n",
      "Epoch 9/10\n",
      "21/21 [==============================] - 0s 20ms/step - loss: 0.0528 - accuracy: 0.9847 - val_loss: 0.3157 - val_accuracy: 0.9486\n",
      "Epoch 10/10\n",
      "21/21 [==============================] - 1s 25ms/step - loss: 0.0454 - accuracy: 0.9863 - val_loss: 0.2340 - val_accuracy: 0.9484\n",
      "Train Acc: 0.9749076962471008 Test Acc: 0.9484000205993652\n"
     ]
    }
   ],
   "source": [
    "init = tf.keras.initializers.random_uniform()\n",
    "activate = 'relu'\n",
    "\n",
    "optimizer = tf.keras.optimizers.Adam(learning_rate=0.01)\n",
    "model_bn_adam = simple_model_bn(init, activate)\n",
    "model_bn_adam.compile(optimizer=optimizer, loss='categorical_crossentropy', metrics=['accuracy'])\n",
    "\n",
    "es = EarlyStopping(monitor='val_loss', mode='min', patience=10, restore_best_weights=True, verbose=1)\n",
    "\n",
    "history = model_bn_adam.fit(X_train, y_train, epochs=10, batch_size=3200, validation_data = (X_test, y_test))\n",
    "\n",
    "_, train_acc = model_bn_adam.evaluate(X_train, y_train, verbose=0)\n",
    "_, test_acc = model_bn_adam.evaluate(X_test, y_test, verbose=0)\n",
    "print('Train Acc:', train_acc, 'Test Acc:', test_acc)"
   ]
  },
  {
   "cell_type": "code",
   "execution_count": 39,
   "metadata": {},
   "outputs": [
    {
     "name": "stdout",
     "output_type": "stream",
     "text": [
      "Restoring model weights from the end of the best epoch: 16.\n",
      "Epoch 26: early stopping\n",
      "Train Acc: 0.9937846064567566 Test Acc: 0.9647230505943298\n"
     ]
    }
   ],
   "source": [
    "init = tf.keras.initializers.random_uniform()\n",
    "activate = 'relu'\n",
    "\n",
    "optimizer = tf.keras.optimizers.Adam(learning_rate=0.01)\n",
    "model_bn_adam = simple_model_bn(init, activate)\n",
    "model_bn_adam.compile(optimizer=optimizer, loss='categorical_crossentropy', metrics=['accuracy'])\n",
    "\n",
    "es = EarlyStopping(monitor='val_loss', mode='min', patience=10, restore_best_weights=True, verbose=1)\n",
    "\n",
    "history = model_bn_adam.fit(X_train, y_train, epochs=2000, callbacks=[es], validation_data = (X_test, y_test), verbose=0)\n",
    "\n",
    "_, train_acc = model_bn_adam.evaluate(X_train, y_train, verbose=0)\n",
    "_, test_acc = model_bn_adam.evaluate(X_test, y_test, verbose=0)\n",
    "print('Train Acc:', train_acc, 'Test Acc:', test_acc)"
   ]
  },
  {
   "cell_type": "code",
   "execution_count": null,
   "metadata": {},
   "outputs": [],
   "source": [
    "init = tf.keras.initializers.random_uniform()\n",
    "activate = 'relu'\n",
    "\n",
    "optimizer = tf.keras.optimizers.Adam(learning_rate=0.01)\n",
    "model_bn_adam = simple_model_bn(init, activate)\n",
    "model_bn_adam.compile(optimizer=optimizer, loss='categorical_crossentropy', metrics=['accuracy'])\n",
    "\n",
    "es = EarlyStopping(monitor='val_loss', mode='min', patience=10, restore_best_weights=True, verbose=1)\n",
    "\n",
    "history = model_bn_adam.fit(X_train, y_train, epochs=2000, callbacks=[es], validation_data = (X_test, y_test), verbose=0)\n",
    "\n",
    "_, train_acc = model_bn_adam.evaluate(X_train, y_train, verbose=0)\n",
    "_, test_acc = model_bn_adam.evaluate(X_test, y_test, verbose=0)\n",
    "print('Train Acc:', train_acc, 'Test Acc:', test_acc)"
   ]
  }
 ],
 "metadata": {
  "kernelspec": {
   "display_name": "Python 3",
   "language": "python",
   "name": "python3"
  },
  "language_info": {
   "codemirror_mode": {
    "name": "ipython",
    "version": 3
   },
   "file_extension": ".py",
   "mimetype": "text/x-python",
   "name": "python",
   "nbconvert_exporter": "python",
   "pygments_lexer": "ipython3",
   "version": "3.10.7"
  },
  "orig_nbformat": 4
 },
 "nbformat": 4,
 "nbformat_minor": 2
}
