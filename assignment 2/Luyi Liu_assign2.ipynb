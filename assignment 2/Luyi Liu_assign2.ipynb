{
 "cells": [
  {
   "cell_type": "code",
   "execution_count": 1,
   "metadata": {},
   "outputs": [],
   "source": [
    "import pandas as pd\n",
    "import scipy.stats as stats\n",
    "import numpy as np\n",
    "import seaborn as sns\n"
   ]
  },
  {
   "cell_type": "code",
   "execution_count": 2,
   "metadata": {},
   "outputs": [],
   "source": [
    "df = pd.read_csv('/Users/liu/Desktop/experiment_dataset.csv')"
   ]
  },
  {
   "cell_type": "code",
   "execution_count": 3,
   "metadata": {},
   "outputs": [
    {
     "name": "stdout",
     "output_type": "stream",
     "text": [
      "<class 'pandas.core.frame.DataFrame'>\n",
      "RangeIndex: 1000 entries, 0 to 999\n",
      "Data columns (total 7 columns):\n",
      " #   Column      Non-Null Count  Dtype  \n",
      "---  ------      --------------  -----  \n",
      " 0   Unnamed: 0  1000 non-null   int64  \n",
      " 1   Age         1000 non-null   int64  \n",
      " 2   Location    1000 non-null   object \n",
      " 3   Device      1000 non-null   object \n",
      " 4   Variant     1000 non-null   object \n",
      " 5   Time Spent  1000 non-null   float64\n",
      " 6   CTR         1000 non-null   float64\n",
      "dtypes: float64(2), int64(2), object(3)\n",
      "memory usage: 54.8+ KB\n"
     ]
    }
   ],
   "source": [
    "df.info()"
   ]
  },
  {
   "cell_type": "code",
   "execution_count": 4,
   "metadata": {},
   "outputs": [
    {
     "data": {
      "text/plain": [
       "<bound method NDFrame.describe of      Unnamed: 0  Age   Location   Device    Variant  Time Spent       CTR\n",
       "0             0   62  Location2  Device2    Control   13.928669  0.084776\n",
       "1             1   18  Location1  Device1  Variant B   11.310518  0.096859\n",
       "2             2   21  Location2  Device1  Variant B   24.842100  0.097630\n",
       "3             3   21  Location1  Device3  Variant B   20.061300  0.109783\n",
       "4             4   57  Location1  Device2  Variant B   34.495503  0.068579\n",
       "..          ...  ...        ...      ...        ...         ...       ...\n",
       "995         995   39  Location2  Device2  Variant B   17.252030  0.092211\n",
       "996         996   38  Location3  Device2    Control   30.075898  0.078151\n",
       "997         997   60  Location2  Device3    Control   31.929223  0.125213\n",
       "998         998   35  Location2  Device2  Variant B   14.680299  0.095423\n",
       "999         999   55  Location1  Device1  Variant B   25.803169  0.166688\n",
       "\n",
       "[1000 rows x 7 columns]>"
      ]
     },
     "execution_count": 4,
     "metadata": {},
     "output_type": "execute_result"
    }
   ],
   "source": [
    "df.describe"
   ]
  },
  {
   "cell_type": "code",
   "execution_count": 5,
   "metadata": {},
   "outputs": [
    {
     "data": {
      "text/plain": [
       "<bound method DataFrame.drop_duplicates of      Unnamed: 0  Age   Location   Device    Variant  Time Spent       CTR\n",
       "0             0   62  Location2  Device2    Control   13.928669  0.084776\n",
       "1             1   18  Location1  Device1  Variant B   11.310518  0.096859\n",
       "2             2   21  Location2  Device1  Variant B   24.842100  0.097630\n",
       "3             3   21  Location1  Device3  Variant B   20.061300  0.109783\n",
       "4             4   57  Location1  Device2  Variant B   34.495503  0.068579\n",
       "..          ...  ...        ...      ...        ...         ...       ...\n",
       "995         995   39  Location2  Device2  Variant B   17.252030  0.092211\n",
       "996         996   38  Location3  Device2    Control   30.075898  0.078151\n",
       "997         997   60  Location2  Device3    Control   31.929223  0.125213\n",
       "998         998   35  Location2  Device2  Variant B   14.680299  0.095423\n",
       "999         999   55  Location1  Device1  Variant B   25.803169  0.166688\n",
       "\n",
       "[1000 rows x 7 columns]>"
      ]
     },
     "execution_count": 5,
     "metadata": {},
     "output_type": "execute_result"
    }
   ],
   "source": [
    "#drop duplicates\n",
    "df.drop_duplicates\n",
    "#there is no duplicates"
   ]
  },
  {
   "cell_type": "code",
   "execution_count": 6,
   "metadata": {},
   "outputs": [],
   "source": [
    "# Separate data for control group and variant groups\n",
    "Control_data = df[df['Variant'] == 'Control']\n",
    "VariantA_data = df[df['Variant'] == 'Variant A']\n",
    "VariantB_data = df[df['Variant'] == 'Variant B']"
   ]
  },
  {
   "cell_type": "code",
   "execution_count": 7,
   "metadata": {},
   "outputs": [
    {
     "name": "stdout",
     "output_type": "stream",
     "text": [
      "CTR lift with Variant A: 22.03%\n",
      "CTR lift with Variant B: 10.53%\n"
     ]
    }
   ],
   "source": [
    "#Q1\n",
    "# Calculate the average CTR for each group\n",
    "Control_ctr_avg = Control_data['CTR'].mean()\n",
    "VariantA_ctr_avg = VariantA_data['CTR'].mean()\n",
    "VariantB_ctr_avg = VariantB_data['CTR'].mean()\n",
    "# Calculate the CTR lift\n",
    "CTR_lift_A = ((VariantA_ctr_avg - Control_ctr_avg) / Control_ctr_avg) * 100\n",
    "CTR_lift_B = ((VariantB_ctr_avg - Control_ctr_avg) / Control_ctr_avg) * 100\n",
    "# Print the CTR lift\n",
    "print(\"CTR lift with Variant A: {:.2f}%\".format(CTR_lift_A))\n",
    "print(\"CTR lift with Variant B: {:.2f}%\".format(CTR_lift_B))"
   ]
  },
  {
   "cell_type": "code",
   "execution_count": 8,
   "metadata": {},
   "outputs": [
    {
     "name": "stdout",
     "output_type": "stream",
     "text": [
      "Time Spent lift with Variant A: 23.59%\n",
      "Time Spent lift with Variant B: 16.31%\n"
     ]
    }
   ],
   "source": [
    "# Calculate the average Time Spent for each group\n",
    "Control_timespent_avg = Control_data['Time Spent'].mean()\n",
    "VariantA_timespent_avg = VariantA_data['Time Spent'].mean()\n",
    "VariantB_timespent_avg = VariantB_data['Time Spent'].mean()\n",
    "# Calculate the CTR lift\n",
    "timespent_lift_A = ((VariantA_timespent_avg - Control_timespent_avg) / Control_timespent_avg) * 100\n",
    "timespent_lift_B = ((VariantB_timespent_avg - Control_timespent_avg) / Control_timespent_avg) * 100\n",
    "# Print the Time Spent lift\n",
    "print(\"Time Spent lift with Variant A: {:.2f}%\".format(timespent_lift_A))\n",
    "print(\"Time Spent lift with Variant B: {:.2f}%\".format(timespent_lift_B))"
   ]
  },
  {
   "cell_type": "code",
   "execution_count": 9,
   "metadata": {},
   "outputs": [
    {
     "name": "stdout",
     "output_type": "stream",
     "text": [
      "Average CTR:\n",
      "Variant\n",
      "Control      0.098554\n",
      "Variant A    0.120269\n",
      "Variant B    0.108933\n",
      "Name: CTR, dtype: float64\n",
      "\n",
      "Average Time Spent (minutes):\n",
      "Variant\n",
      "Control      20.070781\n",
      "Variant A    24.805547\n",
      "Variant B    23.343783\n",
      "Name: Time Spent, dtype: float64\n"
     ]
    }
   ],
   "source": [
    "avg_CTR = df.groupby('Variant')['CTR'].mean()\n",
    "avg_timespent = df.groupby('Variant')['Time Spent'].mean()\n",
    "# Display the average CTR and Time Spent\n",
    "print(\"Average CTR:\")\n",
    "print(avg_CTR)\n",
    "print(\"\\nAverage Time Spent (minutes):\")\n",
    "print(avg_timespent)"
   ]
  },
  {
   "attachments": {},
   "cell_type": "markdown",
   "metadata": {},
   "source": [
    "From the above we can find both Variant A and Variant B results in CTR or Time Spent lift"
   ]
  },
  {
   "cell_type": "code",
   "execution_count": 10,
   "metadata": {},
   "outputs": [
    {
     "name": "stdout",
     "output_type": "stream",
     "text": [
      "T-statistic: 13.829424737499187\n",
      "P-value: 1.9602781373243157e-38\n"
     ]
    }
   ],
   "source": [
    "#Q2 Statistical testing\n",
    "alpha = 0.05  # Significance level\n",
    "#CTR: t-test between Variant A and Control\n",
    "ctr_variantA = VariantA_data['CTR']\n",
    "ctr_control = Control_data['CTR']\n",
    "t_stat, p_val = stats.ttest_ind(ctr_variantA, ctr_control)\n",
    "print(f\"T-statistic: {t_stat}\")\n",
    "print(f\"P-value: {p_val}\")"
   ]
  },
  {
   "cell_type": "code",
   "execution_count": 11,
   "metadata": {},
   "outputs": [
    {
     "name": "stdout",
     "output_type": "stream",
     "text": [
      "T-statistic: 6.4718143491783255\n",
      "P-value: 1.8743198199982106e-10\n"
     ]
    }
   ],
   "source": [
    "#CTR: t-test between Variant B and Control\n",
    "ctr_variantB = VariantB_data['CTR']\n",
    "ctr_control = Control_data['CTR']\n",
    "t_stat, p_val = stats.ttest_ind(ctr_variantB, ctr_control)\n",
    "print(f\"T-statistic: {t_stat}\")\n",
    "print(f\"P-value: {p_val}\")"
   ]
  },
  {
   "cell_type": "code",
   "execution_count": 12,
   "metadata": {},
   "outputs": [
    {
     "name": "stdout",
     "output_type": "stream",
     "text": [
      "T-statistic: 12.142363487472364\n",
      "P-value: 8.488565644996449e-31\n"
     ]
    }
   ],
   "source": [
    "#Time Spent: Perform t-test between Variant A and Control\n",
    "timespent_variantA = VariantA_data['Time Spent']\n",
    "timespent_control = Control_data['Time Spent']\n",
    "t_stat, p_val = stats.ttest_ind(timespent_variantA, timespent_control)\n",
    "print(f\"T-statistic: {t_stat}\")\n",
    "print(f\"P-value: {p_val}\")"
   ]
  },
  {
   "cell_type": "code",
   "execution_count": 13,
   "metadata": {},
   "outputs": [
    {
     "name": "stdout",
     "output_type": "stream",
     "text": [
      "T-statistic: 8.174237395991806\n",
      "P-value: 1.496358076285182e-15\n"
     ]
    }
   ],
   "source": [
    "#Time Spent: Perform t-test between Variant B and Control\n",
    "timespent_variantB = VariantB_data['Time Spent']\n",
    "timespent_control = Control_data['Time Spent']\n",
    "t_stat, p_val = stats.ttest_ind(timespent_variantB, timespent_control)\n",
    "print(f\"T-statistic: {t_stat}\")\n",
    "print(f\"P-value: {p_val}\")"
   ]
  },
  {
   "attachments": {},
   "cell_type": "markdown",
   "metadata": {},
   "source": [
    "#Q3\n",
    "Based on the analysis and statistical testing, here are the results:\n",
    "CTR lift: Both Variant A and Variant B shows a CTR lift compared to the control group.\n",
    "\n",
    "Time Spent lift: Both Variant A and Variant B shows a time spent lift compared to the control group.\n",
    "\n",
    "The p-values for both CTR and Time Spent are:\n",
    "\n",
    "CTR:\n",
    "Control vs. Variant A: p-value = 1.9602781373243157e-38 < 0.05\n",
    "\n",
    "Control vs. Variant B: p-value = 1.8743198199982106e-10 < 0.05\n",
    "\n",
    "Time Spent:\n",
    "Control vs. Variant A: p-value = 8.488565644996449e-31 < 0.05\n",
    "\n",
    "Control vs. Variant B: p-value = 1.496358076285182e-15 < 0.05\n",
    "\n",
    "Since the p-values are less than the significance level (alpha = 0.05), we reject the null hypothesis and conclude that there is a statistically significant difference between the variant groups and the control group.\n",
    "\n",
    "Based on these findings, I recommend deploying both Variant A and Variant B since they show improvements in CTR and Time Spent, respectively, compared to the control group. However, it's essential to monitor the performance of these variants after deployment and continue monitoring user feedback."
   ]
  },
  {
   "attachments": {},
   "cell_type": "markdown",
   "metadata": {},
   "source": [
    "#Q4\n",
    "(1) Release Variant A to a small percentage (5%) of the user base.  Monitor the CTR and Time Spent and gather user feedback during this phase.\n",
    "\n",
    "(2) After analyzing the initial results and addressing any critical issues or concerns from Phase 1, expand the release to a larger percentage (25%) of the user base.  Continue monitoring and collecting feedback.\n",
    "\n",
    "(3) Based on the results and feedback from the previous 2 phases, make some necessary adjustments and improvements on VariantA. Then, release Variant B to a small percentage (10%) of the user base alongside Variant A. Monitor both CTR and Time Spent during this phase.\n",
    "\n",
    "(4)Analyze the performance of both variants A and B in terms of CTR and Time Spent.If the results are positive, gradually increase the rollout percentage for both variants in subsequent phases (to 30%). Continue monitoring and iterating based on user feedback.\n",
    "\n",
    "From the roll-out plan we can ensure a smooth deployment while minimizing potential risks or negative user experiences."
   ]
  }
 ],
 "metadata": {
  "kernelspec": {
   "display_name": "Python 3",
   "language": "python",
   "name": "python3"
  },
  "language_info": {
   "codemirror_mode": {
    "name": "ipython",
    "version": 3
   },
   "file_extension": ".py",
   "mimetype": "text/x-python",
   "name": "python",
   "nbconvert_exporter": "python",
   "pygments_lexer": "ipython3",
   "version": "3.10.7"
  },
  "orig_nbformat": 4
 },
 "nbformat": 4,
 "nbformat_minor": 2
}
